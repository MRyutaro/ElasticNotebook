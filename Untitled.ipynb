{
 "cells": [
  {
   "cell_type": "code",
   "execution_count": 1,
   "id": "4a06f008-a06a-4cf9-bf3e-77fec656dcf9",
   "metadata": {},
   "outputs": [
    {
     "name": "stderr",
     "output_type": "stream",
     "text": [
      "/mnt/c/Users/RECODE/Programs/ElasticNotebook/.linux-venv/lib/python3.10/site-packages/numpy/_core/getlimits.py:548: UserWarning: Signature b'\\x00\\xd0\\xcc\\xcc\\xcc\\xcc\\xcc\\xcc\\xfb\\xbf\\x00\\x00\\x00\\x00\\x00\\x00' for <class 'numpy.longdouble'> does not match any known type: falling back to type probe function.\n",
      "This warnings indicates broken support for the dtype!\n",
      "  machar = _get_machar(dtype)\n"
     ]
    }
   ],
   "source": [
    "import pandas"
   ]
  },
  {
   "cell_type": "code",
   "execution_count": 9,
   "id": "dd06bf8a-8e04-47e3-8610-1e7ff6f78f5c",
   "metadata": {},
   "outputs": [
    {
     "name": "stdout",
     "output_type": "stream",
     "text": [
      "<class 'pandas.core.frame.DataFrame'>\n",
      "<class 'int'>\n",
      "<class 'str'>\n",
      "369\n"
     ]
    }
   ],
   "source": [
    "import pandas as pd\n",
    "import sys\n",
    "\n",
    "# サンプルデータフレーム\n",
    "data = {\n",
    "    \"col1\": [1, 2, 3],\n",
    "    \"col2\": [1.1, 2.2, 3.3],\n",
    "    \"col3\": [\"a\", \"b\", \"c\"],\n",
    "    \"col4\": [True, False, True]\n",
    "}\n",
    "df = pd.DataFrame(data)\n",
    "\n",
    "# データフレーム全体の型を調べる\n",
    "print(type(df))\n",
    "\n",
    "print(type(1))\n",
    "print(type(\"1\"))\n",
    "\n",
    "total_size = sys.getsizeof(df)\n",
    "print(total_size)"
   ]
  },
  {
   "cell_type": "code",
   "execution_count": null,
   "id": "def1b12f-33e7-4d7c-bae4-647a94f2613b",
   "metadata": {},
   "outputs": [],
   "source": []
  }
 ],
 "metadata": {
  "kernelspec": {
   "display_name": "Python 3 (ipykernel)",
   "language": "python",
   "name": "python3"
  },
  "language_info": {
   "codemirror_mode": {
    "name": "ipython",
    "version": 3
   },
   "file_extension": ".py",
   "mimetype": "text/x-python",
   "name": "python",
   "nbconvert_exporter": "python",
   "pygments_lexer": "ipython3",
   "version": "3.10.12"
  }
 },
 "nbformat": 4,
 "nbformat_minor": 5
}
