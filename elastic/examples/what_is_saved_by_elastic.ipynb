{
 "cells": [
  {
   "cell_type": "code",
   "execution_count": 1,
   "id": "2ab372f0-91d7-4af4-a858-86fd7166a5ab",
   "metadata": {},
   "outputs": [],
   "source": [
    "import sys, os\n",
    "sys.path.insert(0, os.path.abspath(\"../..\"))\n",
    "%load_ext ElasticNotebook"
   ]
  },
  {
   "cell_type": "code",
   "execution_count": 2,
   "id": "b0c4d0f6-9ded-4149-b62a-148b968837f2",
   "metadata": {},
   "outputs": [],
   "source": [
    "%%RecordEvent\n",
    "# 変数\n",
    "a = 1"
   ]
  },
  {
   "cell_type": "code",
   "execution_count": 3,
   "id": "50aaa348-841b-4858-8bc4-d43770b558d0",
   "metadata": {},
   "outputs": [],
   "source": [
    "%%RecordEvent\n",
    "# 関数\n",
    "def func():\n",
    "    return"
   ]
  },
  {
   "cell_type": "code",
   "execution_count": 4,
   "id": "4284fbb5-1811-4711-beab-918998110f66",
   "metadata": {},
   "outputs": [],
   "source": [
    "%%RecordEvent\n",
    "class Class:\n",
    "    def __init__(self):\n",
    "        pass"
   ]
  },
  {
   "cell_type": "code",
   "execution_count": 5,
   "id": "78f32062-97aa-4619-9dac-b8f3772a24b8",
   "metadata": {},
   "outputs": [],
   "source": [
    "%%RecordEvent\n",
    "# ライブラリ\n",
    "import numpy"
   ]
  },
  {
   "cell_type": "code",
   "execution_count": 6,
   "id": "1a979218-7ae5-4112-b532-cc653cb48d05",
   "metadata": {},
   "outputs": [],
   "source": [
    "%%RecordEvent\n",
    "# C拡張\n",
    "n_list = a = numpy.zeros(5)"
   ]
  },
  {
   "cell_type": "code",
   "execution_count": 7,
   "id": "175bde8a-985e-46d8-b0de-8ad8035456c1",
   "metadata": {},
   "outputs": [
    {
     "name": "stdout",
     "output_type": "stream",
     "text": [
      "migration speed (bps) (total_bytes / (total_read_time + total_write_time * alpha)): 872083754.7004586\n",
      "|- total bytes: 799920000\n",
      "|- total read time: 0.0001652240753173828\n",
      "|- total write time: 0.917086124420166\n",
      "|- alpha: 1\n",
      "---------------------------\n",
      "all variables:\n",
      "name: a\n",
      "name: func\n",
      "name: Class\n",
      "name: numpy\n",
      "name: n_list\n",
      "---------------------------\n",
      "variables to migrate:\n",
      "name: Class, size: 1704\n",
      "name: numpy, size: 72\n",
      "name: a, size: 152\n",
      "name: n_list, size: 152\n",
      "name: func, size: 160\n",
      "---------------------------\n",
      "variables to recompute:\n",
      "[]\n",
      "---------------------------\n",
      "cells to recompute:\n",
      "[]\n",
      "Checkpoint saved to: checkpoints/what_is_saved_by_elastic.pickle\n"
     ]
    }
   ],
   "source": [
    "%Checkpoint checkpoints/what_is_saved_by_elastic.pickle"
   ]
  }
 ],
 "metadata": {
  "kernelspec": {
   "display_name": "Python 3 (ipykernel)",
   "language": "python",
   "name": "python3"
  },
  "language_info": {
   "codemirror_mode": {
    "name": "ipython",
    "version": 3
   },
   "file_extension": ".py",
   "mimetype": "text/x-python",
   "name": "python",
   "nbconvert_exporter": "python",
   "pygments_lexer": "ipython3",
   "version": "3.12.2"
  }
 },
 "nbformat": 4,
 "nbformat_minor": 5
}
