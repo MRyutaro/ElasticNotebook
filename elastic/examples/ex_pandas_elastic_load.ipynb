{
 "cells": [
  {
   "cell_type": "code",
   "execution_count": 1,
   "metadata": {},
   "outputs": [],
   "source": [
    "import sys, os\n",
    "sys.path.insert(0, os.path.abspath(\"../..\"))"
   ]
  },
  {
   "cell_type": "code",
   "execution_count": 2,
   "metadata": {},
   "outputs": [],
   "source": [
    "%load_ext ElasticNotebook"
   ]
  },
  {
   "cell_type": "code",
   "execution_count": 3,
   "metadata": {},
   "outputs": [],
   "source": [
    "import time\n",
    "start_time = time.time()"
   ]
  },
  {
   "cell_type": "code",
   "execution_count": 4,
   "metadata": {},
   "outputs": [
    {
     "name": "stdout",
     "output_type": "stream",
     "text": [
      "[[<elastic.core.graph.variable_snapshot.VariableSnapshot object at 0x10f3b5430>]]\n",
      "trying: ['mem_usage']\n",
      "me:  4\n",
      "Rerunning cell 1\n",
      "Rerunning cell 2\n",
      "Rerunning cell 4\n",
      "Declaring variable mem_usage\n",
      "Rerunning cell 6\n",
      "Rerunning cell 7\n",
      "Rerunning cell 8\n",
      "Rerunning cell 9\n",
      "Rerunning cell 10\n",
      "Rerunning cell 11\n",
      "Checkpoint load time: 0.18549799919128418\n"
     ]
    }
   ],
   "source": [
    "%LoadCheckpoint checkpoints/pandas.pickle"
   ]
  },
  {
   "cell_type": "code",
   "execution_count": 5,
   "metadata": {},
   "outputs": [
    {
     "name": "stdout",
     "output_type": "stream",
     "text": [
      "col\t compare_floats\t compare_ints\t converted_float\t converted_int\t converted_obj\t dow\t dow_cat\t dtype\t \n",
      "gl\t gl_float\t gl_int\t gl_obj\t mean_usage_b\t mean_usage_mb\t mem_usage\t num_total_values\t num_unique_values\t \n",
      "optimized_gl\t os\t pd\t selected_dtype\t start_time\t sys\t time\t \n"
     ]
    }
   ],
   "source": [
    "%who"
   ]
  },
  {
   "cell_type": "code",
   "execution_count": 6,
   "metadata": {},
   "outputs": [
    {
     "name": "stdout",
     "output_type": "stream",
     "text": [
      "0.1916189193725586\n"
     ]
    }
   ],
   "source": [
    "print(time.time() - start_time)"
   ]
  }
 ],
 "metadata": {
  "interpreter": {
   "hash": "73e29f827a180d655af59b8e84c2509fd207c6d30a6436933ca2d326b6144ecd"
  },
  "kernelspec": {
   "display_name": "Python 3 (ipykernel)",
   "language": "python",
   "name": "python3"
  },
  "language_info": {
   "codemirror_mode": {
    "name": "ipython",
    "version": 3
   },
   "file_extension": ".py",
   "mimetype": "text/x-python",
   "name": "python",
   "nbconvert_exporter": "python",
   "pygments_lexer": "ipython3",
   "version": "3.12.2"
  }
 },
 "nbformat": 4,
 "nbformat_minor": 4
}
