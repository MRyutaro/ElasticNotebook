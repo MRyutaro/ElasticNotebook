{
 "cells": [
  {
   "cell_type": "code",
   "execution_count": 1,
   "metadata": {
    "pycharm": {
     "name": "#%%\n"
    }
   },
   "outputs": [
    {
     "name": "stderr",
     "output_type": "stream",
     "text": [
      "/mnt/c/Users/RECODE/Programs/ElasticNotebook/.linux-venv/lib/python3.10/site-packages/numpy/_core/getlimits.py:548: UserWarning: Signature b'\\x00\\xd0\\xcc\\xcc\\xcc\\xcc\\xcc\\xcc\\xfb\\xbf\\x00\\x00\\x00\\x00\\x00\\x00' for <class 'numpy.longdouble'> does not match any known type: falling back to type probe function.\n",
      "This warnings indicates broken support for the dtype!\n",
      "  machar = _get_machar(dtype)\n"
     ]
    }
   ],
   "source": [
    "# Get the data here: https://data.world/dataquest/mlb-game-logs\n",
    "import sys, os\n",
    "sys.path.insert(0, os.path.abspath(\"../..\"))\n",
    "%load_ext ElasticNotebook"
   ]
  },
  {
   "cell_type": "code",
   "execution_count": 2,
   "metadata": {
    "collapsed": false,
    "jupyter": {
     "outputs_hidden": false
    },
    "pycharm": {
     "is_executing": true,
     "name": "#%%\n"
    }
   },
   "outputs": [
    {
     "data": {
      "text/html": [
       "<div>\n",
       "<style scoped>\n",
       "    .dataframe tbody tr th:only-of-type {\n",
       "        vertical-align: middle;\n",
       "    }\n",
       "\n",
       "    .dataframe tbody tr th {\n",
       "        vertical-align: top;\n",
       "    }\n",
       "\n",
       "    .dataframe thead th {\n",
       "        text-align: right;\n",
       "    }\n",
       "</style>\n",
       "<table border=\"1\" class=\"dataframe\">\n",
       "  <thead>\n",
       "    <tr style=\"text-align: right;\">\n",
       "      <th></th>\n",
       "      <th>date</th>\n",
       "      <th>number_of_game</th>\n",
       "      <th>day_of_week</th>\n",
       "      <th>v_name</th>\n",
       "      <th>v_league</th>\n",
       "      <th>v_game_number</th>\n",
       "      <th>h_name</th>\n",
       "      <th>h_league</th>\n",
       "      <th>h_game_number</th>\n",
       "      <th>v_score</th>\n",
       "      <th>...</th>\n",
       "      <th>h_player_7_name</th>\n",
       "      <th>h_player_7_def_pos</th>\n",
       "      <th>h_player_8_id</th>\n",
       "      <th>h_player_8_name</th>\n",
       "      <th>h_player_8_def_pos</th>\n",
       "      <th>h_player_9_id</th>\n",
       "      <th>h_player_9_name</th>\n",
       "      <th>h_player_9_def_pos</th>\n",
       "      <th>additional_info</th>\n",
       "      <th>acquisition_info</th>\n",
       "    </tr>\n",
       "  </thead>\n",
       "  <tbody>\n",
       "    <tr>\n",
       "      <th>0</th>\n",
       "      <td>20230330</td>\n",
       "      <td>0</td>\n",
       "      <td>Thu</td>\n",
       "      <td>MIL</td>\n",
       "      <td>NL</td>\n",
       "      <td>1</td>\n",
       "      <td>CHN</td>\n",
       "      <td>NL</td>\n",
       "      <td>1</td>\n",
       "      <td>0</td>\n",
       "      <td>...</td>\n",
       "      <td>Eric Hosmer</td>\n",
       "      <td>3</td>\n",
       "      <td>wisdp001</td>\n",
       "      <td>Patrick Wisdom</td>\n",
       "      <td>5</td>\n",
       "      <td>mastm001</td>\n",
       "      <td>Miles Mastrobuoni</td>\n",
       "      <td>9</td>\n",
       "      <td>NaN</td>\n",
       "      <td>Y</td>\n",
       "    </tr>\n",
       "    <tr>\n",
       "      <th>1</th>\n",
       "      <td>20230330</td>\n",
       "      <td>0</td>\n",
       "      <td>Thu</td>\n",
       "      <td>PIT</td>\n",
       "      <td>NL</td>\n",
       "      <td>1</td>\n",
       "      <td>CIN</td>\n",
       "      <td>NL</td>\n",
       "      <td>1</td>\n",
       "      <td>5</td>\n",
       "      <td>...</td>\n",
       "      <td>Spencer Steer</td>\n",
       "      <td>5</td>\n",
       "      <td>bensw001</td>\n",
       "      <td>Will Benson</td>\n",
       "      <td>7</td>\n",
       "      <td>garcj007</td>\n",
       "      <td>Jose Garcia</td>\n",
       "      <td>6</td>\n",
       "      <td>NaN</td>\n",
       "      <td>Y</td>\n",
       "    </tr>\n",
       "    <tr>\n",
       "      <th>2</th>\n",
       "      <td>20230330</td>\n",
       "      <td>0</td>\n",
       "      <td>Thu</td>\n",
       "      <td>ARI</td>\n",
       "      <td>NL</td>\n",
       "      <td>1</td>\n",
       "      <td>LAN</td>\n",
       "      <td>NL</td>\n",
       "      <td>1</td>\n",
       "      <td>2</td>\n",
       "      <td>...</td>\n",
       "      <td>Miguel Vargas</td>\n",
       "      <td>4</td>\n",
       "      <td>outmj002</td>\n",
       "      <td>James Outman</td>\n",
       "      <td>8</td>\n",
       "      <td>rojam002</td>\n",
       "      <td>Miguel Rojas</td>\n",
       "      <td>6</td>\n",
       "      <td>NaN</td>\n",
       "      <td>Y</td>\n",
       "    </tr>\n",
       "    <tr>\n",
       "      <th>3</th>\n",
       "      <td>20230330</td>\n",
       "      <td>0</td>\n",
       "      <td>Thu</td>\n",
       "      <td>NYN</td>\n",
       "      <td>NL</td>\n",
       "      <td>1</td>\n",
       "      <td>MIA</td>\n",
       "      <td>NL</td>\n",
       "      <td>1</td>\n",
       "      <td>5</td>\n",
       "      <td>...</td>\n",
       "      <td>Bryan De La Cruz</td>\n",
       "      <td>7</td>\n",
       "      <td>stalj001</td>\n",
       "      <td>Jacob Stallings</td>\n",
       "      <td>2</td>\n",
       "      <td>wendj002</td>\n",
       "      <td>Joey Wendle</td>\n",
       "      <td>6</td>\n",
       "      <td>NaN</td>\n",
       "      <td>Y</td>\n",
       "    </tr>\n",
       "    <tr>\n",
       "      <th>4</th>\n",
       "      <td>20230330</td>\n",
       "      <td>0</td>\n",
       "      <td>Thu</td>\n",
       "      <td>COL</td>\n",
       "      <td>NL</td>\n",
       "      <td>1</td>\n",
       "      <td>SDN</td>\n",
       "      <td>NL</td>\n",
       "      <td>1</td>\n",
       "      <td>7</td>\n",
       "      <td>...</td>\n",
       "      <td>Austin Nola</td>\n",
       "      <td>2</td>\n",
       "      <td>kim-h002</td>\n",
       "      <td>Ha-Seong Kim</td>\n",
       "      <td>4</td>\n",
       "      <td>dahld001</td>\n",
       "      <td>David Dahl</td>\n",
       "      <td>9</td>\n",
       "      <td>NaN</td>\n",
       "      <td>Y</td>\n",
       "    </tr>\n",
       "  </tbody>\n",
       "</table>\n",
       "<p>5 rows × 161 columns</p>\n",
       "</div>"
      ],
      "text/plain": [
       "       date  number_of_game day_of_week v_name v_league  v_game_number h_name  \\\n",
       "0  20230330               0         Thu    MIL       NL              1    CHN   \n",
       "1  20230330               0         Thu    PIT       NL              1    CIN   \n",
       "2  20230330               0         Thu    ARI       NL              1    LAN   \n",
       "3  20230330               0         Thu    NYN       NL              1    MIA   \n",
       "4  20230330               0         Thu    COL       NL              1    SDN   \n",
       "\n",
       "  h_league  h_game_number  v_score  ...   h_player_7_name  h_player_7_def_pos  \\\n",
       "0       NL              1        0  ...       Eric Hosmer                   3   \n",
       "1       NL              1        5  ...     Spencer Steer                   5   \n",
       "2       NL              1        2  ...     Miguel Vargas                   4   \n",
       "3       NL              1        5  ...  Bryan De La Cruz                   7   \n",
       "4       NL              1        7  ...       Austin Nola                   2   \n",
       "\n",
       "  h_player_8_id  h_player_8_name  h_player_8_def_pos  h_player_9_id  \\\n",
       "0      wisdp001   Patrick Wisdom                   5       mastm001   \n",
       "1      bensw001      Will Benson                   7       garcj007   \n",
       "2      outmj002     James Outman                   8       rojam002   \n",
       "3      stalj001  Jacob Stallings                   2       wendj002   \n",
       "4      kim-h002     Ha-Seong Kim                   4       dahld001   \n",
       "\n",
       "     h_player_9_name  h_player_9_def_pos  additional_info acquisition_info  \n",
       "0  Miles Mastrobuoni                   9              NaN                Y  \n",
       "1        Jose Garcia                   6              NaN                Y  \n",
       "2       Miguel Rojas                   6              NaN                Y  \n",
       "3        Joey Wendle                   6              NaN                Y  \n",
       "4         David Dahl                   9              NaN                Y  \n",
       "\n",
       "[5 rows x 161 columns]"
      ]
     },
     "execution_count": 2,
     "metadata": {},
     "output_type": "execute_result"
    }
   ],
   "source": [
    "%%RecordEvent\n",
    "import pandas as pd\n",
    "gl = pd.read_csv('data/game_logs.csv')\n",
    "gl.head()"
   ]
  },
  {
   "cell_type": "code",
   "execution_count": 3,
   "metadata": {
    "pycharm": {
     "name": "#%%\n"
    }
   },
   "outputs": [
    {
     "name": "stdout",
     "output_type": "stream",
     "text": [
      "<class 'pandas.core.frame.DataFrame'>\n",
      "RangeIndex: 2430 entries, 0 to 2429\n",
      "Columns: 161 entries, date to acquisition_info\n",
      "dtypes: float64(5), int64(82), object(74)\n",
      "memory usage: 12.8 MB\n"
     ]
    }
   ],
   "source": [
    "%%RecordEvent\n",
    "gl = gl.fillna(0)\n",
    "gl.info(memory_usage='deep')"
   ]
  },
  {
   "cell_type": "code",
   "execution_count": 4,
   "metadata": {
    "collapsed": false,
    "jupyter": {
     "outputs_hidden": false
    },
    "pycharm": {
     "name": "#%%\n"
    }
   },
   "outputs": [
    {
     "data": {
      "text/html": [
       "<div>\n",
       "<style scoped>\n",
       "    .dataframe tbody tr th:only-of-type {\n",
       "        vertical-align: middle;\n",
       "    }\n",
       "\n",
       "    .dataframe tbody tr th {\n",
       "        vertical-align: top;\n",
       "    }\n",
       "\n",
       "    .dataframe thead th {\n",
       "        text-align: right;\n",
       "    }\n",
       "</style>\n",
       "<table border=\"1\" class=\"dataframe\">\n",
       "  <thead>\n",
       "    <tr style=\"text-align: right;\">\n",
       "      <th></th>\n",
       "      <th>date</th>\n",
       "      <th>number_of_game</th>\n",
       "      <th>day_of_week</th>\n",
       "      <th>v_name</th>\n",
       "      <th>v_league</th>\n",
       "      <th>v_game_number</th>\n",
       "      <th>h_name</th>\n",
       "      <th>h_league</th>\n",
       "      <th>h_game_number</th>\n",
       "      <th>v_score</th>\n",
       "      <th>...</th>\n",
       "      <th>h_player_7_name</th>\n",
       "      <th>h_player_7_def_pos</th>\n",
       "      <th>h_player_8_id</th>\n",
       "      <th>h_player_8_name</th>\n",
       "      <th>h_player_8_def_pos</th>\n",
       "      <th>h_player_9_id</th>\n",
       "      <th>h_player_9_name</th>\n",
       "      <th>h_player_9_def_pos</th>\n",
       "      <th>additional_info</th>\n",
       "      <th>acquisition_info</th>\n",
       "    </tr>\n",
       "  </thead>\n",
       "  <tbody>\n",
       "    <tr>\n",
       "      <th>0</th>\n",
       "      <td>20230330</td>\n",
       "      <td>0</td>\n",
       "      <td>Thu</td>\n",
       "      <td>MIL</td>\n",
       "      <td>NL</td>\n",
       "      <td>1</td>\n",
       "      <td>CHN</td>\n",
       "      <td>NL</td>\n",
       "      <td>1</td>\n",
       "      <td>0</td>\n",
       "      <td>...</td>\n",
       "      <td>Eric Hosmer</td>\n",
       "      <td>3</td>\n",
       "      <td>wisdp001</td>\n",
       "      <td>Patrick Wisdom</td>\n",
       "      <td>5</td>\n",
       "      <td>mastm001</td>\n",
       "      <td>Miles Mastrobuoni</td>\n",
       "      <td>9</td>\n",
       "      <td>0</td>\n",
       "      <td>Y</td>\n",
       "    </tr>\n",
       "    <tr>\n",
       "      <th>1</th>\n",
       "      <td>20230330</td>\n",
       "      <td>0</td>\n",
       "      <td>Thu</td>\n",
       "      <td>PIT</td>\n",
       "      <td>NL</td>\n",
       "      <td>1</td>\n",
       "      <td>CIN</td>\n",
       "      <td>NL</td>\n",
       "      <td>1</td>\n",
       "      <td>5</td>\n",
       "      <td>...</td>\n",
       "      <td>Spencer Steer</td>\n",
       "      <td>5</td>\n",
       "      <td>bensw001</td>\n",
       "      <td>Will Benson</td>\n",
       "      <td>7</td>\n",
       "      <td>garcj007</td>\n",
       "      <td>Jose Garcia</td>\n",
       "      <td>6</td>\n",
       "      <td>0</td>\n",
       "      <td>Y</td>\n",
       "    </tr>\n",
       "    <tr>\n",
       "      <th>2</th>\n",
       "      <td>20230330</td>\n",
       "      <td>0</td>\n",
       "      <td>Thu</td>\n",
       "      <td>ARI</td>\n",
       "      <td>NL</td>\n",
       "      <td>1</td>\n",
       "      <td>LAN</td>\n",
       "      <td>NL</td>\n",
       "      <td>1</td>\n",
       "      <td>2</td>\n",
       "      <td>...</td>\n",
       "      <td>Miguel Vargas</td>\n",
       "      <td>4</td>\n",
       "      <td>outmj002</td>\n",
       "      <td>James Outman</td>\n",
       "      <td>8</td>\n",
       "      <td>rojam002</td>\n",
       "      <td>Miguel Rojas</td>\n",
       "      <td>6</td>\n",
       "      <td>0</td>\n",
       "      <td>Y</td>\n",
       "    </tr>\n",
       "    <tr>\n",
       "      <th>3</th>\n",
       "      <td>20230330</td>\n",
       "      <td>0</td>\n",
       "      <td>Thu</td>\n",
       "      <td>NYN</td>\n",
       "      <td>NL</td>\n",
       "      <td>1</td>\n",
       "      <td>MIA</td>\n",
       "      <td>NL</td>\n",
       "      <td>1</td>\n",
       "      <td>5</td>\n",
       "      <td>...</td>\n",
       "      <td>Bryan De La Cruz</td>\n",
       "      <td>7</td>\n",
       "      <td>stalj001</td>\n",
       "      <td>Jacob Stallings</td>\n",
       "      <td>2</td>\n",
       "      <td>wendj002</td>\n",
       "      <td>Joey Wendle</td>\n",
       "      <td>6</td>\n",
       "      <td>0</td>\n",
       "      <td>Y</td>\n",
       "    </tr>\n",
       "    <tr>\n",
       "      <th>4</th>\n",
       "      <td>20230330</td>\n",
       "      <td>0</td>\n",
       "      <td>Thu</td>\n",
       "      <td>COL</td>\n",
       "      <td>NL</td>\n",
       "      <td>1</td>\n",
       "      <td>SDN</td>\n",
       "      <td>NL</td>\n",
       "      <td>1</td>\n",
       "      <td>7</td>\n",
       "      <td>...</td>\n",
       "      <td>Austin Nola</td>\n",
       "      <td>2</td>\n",
       "      <td>kim-h002</td>\n",
       "      <td>Ha-Seong Kim</td>\n",
       "      <td>4</td>\n",
       "      <td>dahld001</td>\n",
       "      <td>David Dahl</td>\n",
       "      <td>9</td>\n",
       "      <td>0</td>\n",
       "      <td>Y</td>\n",
       "    </tr>\n",
       "  </tbody>\n",
       "</table>\n",
       "<p>5 rows × 161 columns</p>\n",
       "</div>"
      ],
      "text/plain": [
       "       date  number_of_game day_of_week v_name v_league  v_game_number h_name  \\\n",
       "0  20230330               0         Thu    MIL       NL              1    CHN   \n",
       "1  20230330               0         Thu    PIT       NL              1    CIN   \n",
       "2  20230330               0         Thu    ARI       NL              1    LAN   \n",
       "3  20230330               0         Thu    NYN       NL              1    MIA   \n",
       "4  20230330               0         Thu    COL       NL              1    SDN   \n",
       "\n",
       "  h_league  h_game_number  v_score  ...   h_player_7_name  h_player_7_def_pos  \\\n",
       "0       NL              1        0  ...       Eric Hosmer                   3   \n",
       "1       NL              1        5  ...     Spencer Steer                   5   \n",
       "2       NL              1        2  ...     Miguel Vargas                   4   \n",
       "3       NL              1        5  ...  Bryan De La Cruz                   7   \n",
       "4       NL              1        7  ...       Austin Nola                   2   \n",
       "\n",
       "  h_player_8_id  h_player_8_name  h_player_8_def_pos  h_player_9_id  \\\n",
       "0      wisdp001   Patrick Wisdom                   5       mastm001   \n",
       "1      bensw001      Will Benson                   7       garcj007   \n",
       "2      outmj002     James Outman                   8       rojam002   \n",
       "3      stalj001  Jacob Stallings                   2       wendj002   \n",
       "4      kim-h002     Ha-Seong Kim                   4       dahld001   \n",
       "\n",
       "     h_player_9_name  h_player_9_def_pos  additional_info acquisition_info  \n",
       "0  Miles Mastrobuoni                   9                0                Y  \n",
       "1        Jose Garcia                   6                0                Y  \n",
       "2       Miguel Rojas                   6                0                Y  \n",
       "3        Joey Wendle                   6                0                Y  \n",
       "4         David Dahl                   9                0                Y  \n",
       "\n",
       "[5 rows x 161 columns]"
      ]
     },
     "execution_count": 4,
     "metadata": {},
     "output_type": "execute_result"
    }
   ],
   "source": [
    "%%RecordEvent\n",
    "gl.head()"
   ]
  },
  {
   "cell_type": "code",
   "execution_count": 5,
   "metadata": {
    "collapsed": false,
    "jupyter": {
     "outputs_hidden": false
    },
    "pycharm": {
     "name": "#%%\n"
    }
   },
   "outputs": [
    {
     "name": "stdout",
     "output_type": "stream",
     "text": [
      "Average memory usage for float columns: 0.02 MB\n",
      "Average memory usage for int columns: 0.02 MB\n",
      "Average memory usage for object columns: 0.15 MB\n"
     ]
    }
   ],
   "source": [
    "%%RecordEvent\n",
    "for dtype in ['float','int','object']:\n",
    "    selected_dtype = gl.select_dtypes(include=[dtype])\n",
    "    mean_usage_b = selected_dtype.memory_usage(deep=True).mean()\n",
    "    mean_usage_mb = mean_usage_b / 1024 ** 2\n",
    "    print(\"Average memory usage for {} columns: {:03.2f} MB\".format(dtype,mean_usage_mb))"
   ]
  },
  {
   "cell_type": "code",
   "execution_count": 6,
   "metadata": {
    "pycharm": {
     "name": "#%%\n"
    }
   },
   "outputs": [],
   "source": [
    "%%RecordEvent\n",
    "def mem_usage(pandas_obj):\n",
    "    if isinstance(pandas_obj,pd.DataFrame):\n",
    "        usage_b = pandas_obj.memory_usage(deep=True).sum()\n",
    "    else: # we assume if not a df it's a series\n",
    "        usage_b = pandas_obj.memory_usage(deep=True)\n",
    "    usage_mb = usage_b / 1024 ** 2 # convert bytes to megabytes\n",
    "    return \"{:03.2f} MB\".format(usage_mb)"
   ]
  },
  {
   "cell_type": "code",
   "execution_count": 7,
   "metadata": {
    "pycharm": {
     "name": "#%%\n"
    }
   },
   "outputs": [
    {
     "name": "stdout",
     "output_type": "stream",
     "text": [
      "1.52 MB\n",
      "0.20 MB\n"
     ]
    },
    {
     "data": {
      "text/html": [
       "<div>\n",
       "<style scoped>\n",
       "    .dataframe tbody tr th:only-of-type {\n",
       "        vertical-align: middle;\n",
       "    }\n",
       "\n",
       "    .dataframe tbody tr th {\n",
       "        vertical-align: top;\n",
       "    }\n",
       "\n",
       "    .dataframe thead th {\n",
       "        text-align: right;\n",
       "    }\n",
       "</style>\n",
       "<table border=\"1\" class=\"dataframe\">\n",
       "  <thead>\n",
       "    <tr style=\"text-align: right;\">\n",
       "      <th></th>\n",
       "      <th>before</th>\n",
       "      <th>after</th>\n",
       "    </tr>\n",
       "  </thead>\n",
       "  <tbody>\n",
       "    <tr>\n",
       "      <th>uint8</th>\n",
       "      <td>NaN</td>\n",
       "      <td>80.0</td>\n",
       "    </tr>\n",
       "    <tr>\n",
       "      <th>uint16</th>\n",
       "      <td>NaN</td>\n",
       "      <td>1.0</td>\n",
       "    </tr>\n",
       "    <tr>\n",
       "      <th>uint32</th>\n",
       "      <td>NaN</td>\n",
       "      <td>1.0</td>\n",
       "    </tr>\n",
       "    <tr>\n",
       "      <th>int64</th>\n",
       "      <td>82.0</td>\n",
       "      <td>NaN</td>\n",
       "    </tr>\n",
       "  </tbody>\n",
       "</table>\n",
       "</div>"
      ],
      "text/plain": [
       "        before  after\n",
       "uint8      NaN   80.0\n",
       "uint16     NaN    1.0\n",
       "uint32     NaN    1.0\n",
       "int64     82.0    NaN"
      ]
     },
     "execution_count": 7,
     "metadata": {},
     "output_type": "execute_result"
    }
   ],
   "source": [
    "%%RecordEvent\n",
    "gl_int = gl.select_dtypes(include=['int'])\n",
    "converted_int = gl_int.apply(pd.to_numeric,downcast='unsigned')\n",
    "print(mem_usage(gl_int))\n",
    "print(mem_usage(converted_int))\n",
    "compare_ints = pd.concat([gl_int.dtypes,converted_int.dtypes],axis=1)\n",
    "compare_ints.columns = ['before','after']\n",
    "compare_ints.apply(pd.Series.value_counts)"
   ]
  },
  {
   "cell_type": "code",
   "execution_count": 8,
   "metadata": {
    "pycharm": {
     "name": "#%%\n"
    }
   },
   "outputs": [
    {
     "name": "stdout",
     "output_type": "stream",
     "text": [
      "0.09 MB\n",
      "0.05 MB\n"
     ]
    },
    {
     "data": {
      "text/html": [
       "<div>\n",
       "<style scoped>\n",
       "    .dataframe tbody tr th:only-of-type {\n",
       "        vertical-align: middle;\n",
       "    }\n",
       "\n",
       "    .dataframe tbody tr th {\n",
       "        vertical-align: top;\n",
       "    }\n",
       "\n",
       "    .dataframe thead th {\n",
       "        text-align: right;\n",
       "    }\n",
       "</style>\n",
       "<table border=\"1\" class=\"dataframe\">\n",
       "  <thead>\n",
       "    <tr style=\"text-align: right;\">\n",
       "      <th></th>\n",
       "      <th>before</th>\n",
       "      <th>after</th>\n",
       "    </tr>\n",
       "  </thead>\n",
       "  <tbody>\n",
       "    <tr>\n",
       "      <th>float32</th>\n",
       "      <td>NaN</td>\n",
       "      <td>5.0</td>\n",
       "    </tr>\n",
       "    <tr>\n",
       "      <th>float64</th>\n",
       "      <td>5.0</td>\n",
       "      <td>NaN</td>\n",
       "    </tr>\n",
       "  </tbody>\n",
       "</table>\n",
       "</div>"
      ],
      "text/plain": [
       "         before  after\n",
       "float32     NaN    5.0\n",
       "float64     5.0    NaN"
      ]
     },
     "execution_count": 8,
     "metadata": {},
     "output_type": "execute_result"
    }
   ],
   "source": [
    "%%RecordEvent\n",
    "gl_float = gl.select_dtypes(include=['float'])\n",
    "converted_float = gl_float.apply(pd.to_numeric,downcast='float')\n",
    "print(mem_usage(gl_float))\n",
    "print(mem_usage(converted_float))\n",
    "compare_floats = pd.concat([gl_float.dtypes,converted_float.dtypes],axis=1)\n",
    "compare_floats.columns = ['before','after']\n",
    "compare_floats.apply(pd.Series.value_counts)"
   ]
  },
  {
   "cell_type": "code",
   "execution_count": 9,
   "metadata": {
    "pycharm": {
     "name": "#%%\n"
    }
   },
   "outputs": [
    {
     "name": "stdout",
     "output_type": "stream",
     "text": [
      "12.77 MB\n",
      "11.40 MB\n"
     ]
    }
   ],
   "source": [
    "%%RecordEvent\n",
    "optimized_gl = gl.copy()\n",
    "optimized_gl[converted_int.columns] = converted_int\n",
    "optimized_gl[converted_float.columns] = converted_float\n",
    "\n",
    "print(mem_usage(gl))\n",
    "print(mem_usage(optimized_gl))"
   ]
  },
  {
   "cell_type": "code",
   "execution_count": 10,
   "metadata": {
    "pycharm": {
     "name": "#%%\n"
    }
   },
   "outputs": [
    {
     "data": {
      "text/html": [
       "<div>\n",
       "<style scoped>\n",
       "    .dataframe tbody tr th:only-of-type {\n",
       "        vertical-align: middle;\n",
       "    }\n",
       "\n",
       "    .dataframe tbody tr th {\n",
       "        vertical-align: top;\n",
       "    }\n",
       "\n",
       "    .dataframe thead th {\n",
       "        text-align: right;\n",
       "    }\n",
       "</style>\n",
       "<table border=\"1\" class=\"dataframe\">\n",
       "  <thead>\n",
       "    <tr style=\"text-align: right;\">\n",
       "      <th></th>\n",
       "      <th>day_of_week</th>\n",
       "      <th>v_name</th>\n",
       "      <th>v_league</th>\n",
       "      <th>h_name</th>\n",
       "      <th>h_league</th>\n",
       "      <th>day_night</th>\n",
       "      <th>completion</th>\n",
       "      <th>park_id</th>\n",
       "      <th>v_line_score</th>\n",
       "      <th>h_line_score</th>\n",
       "      <th>...</th>\n",
       "      <th>h_player_6_id</th>\n",
       "      <th>h_player_6_name</th>\n",
       "      <th>h_player_7_id</th>\n",
       "      <th>h_player_7_name</th>\n",
       "      <th>h_player_8_id</th>\n",
       "      <th>h_player_8_name</th>\n",
       "      <th>h_player_9_id</th>\n",
       "      <th>h_player_9_name</th>\n",
       "      <th>additional_info</th>\n",
       "      <th>acquisition_info</th>\n",
       "    </tr>\n",
       "  </thead>\n",
       "  <tbody>\n",
       "    <tr>\n",
       "      <th>count</th>\n",
       "      <td>2430</td>\n",
       "      <td>2430</td>\n",
       "      <td>2430</td>\n",
       "      <td>2430</td>\n",
       "      <td>2430</td>\n",
       "      <td>2430</td>\n",
       "      <td>2430</td>\n",
       "      <td>2430</td>\n",
       "      <td>2430</td>\n",
       "      <td>2430</td>\n",
       "      <td>...</td>\n",
       "      <td>2430</td>\n",
       "      <td>2430</td>\n",
       "      <td>2430</td>\n",
       "      <td>2430</td>\n",
       "      <td>2430</td>\n",
       "      <td>2430</td>\n",
       "      <td>2430</td>\n",
       "      <td>2430</td>\n",
       "      <td>2430</td>\n",
       "      <td>2430</td>\n",
       "    </tr>\n",
       "    <tr>\n",
       "      <th>unique</th>\n",
       "      <td>7</td>\n",
       "      <td>30</td>\n",
       "      <td>2</td>\n",
       "      <td>30</td>\n",
       "      <td>2</td>\n",
       "      <td>2</td>\n",
       "      <td>7</td>\n",
       "      <td>33</td>\n",
       "      <td>1514</td>\n",
       "      <td>1624</td>\n",
       "      <td>...</td>\n",
       "      <td>380</td>\n",
       "      <td>379</td>\n",
       "      <td>418</td>\n",
       "      <td>418</td>\n",
       "      <td>395</td>\n",
       "      <td>394</td>\n",
       "      <td>331</td>\n",
       "      <td>331</td>\n",
       "      <td>13</td>\n",
       "      <td>1</td>\n",
       "    </tr>\n",
       "    <tr>\n",
       "      <th>top</th>\n",
       "      <td>Sat</td>\n",
       "      <td>MIL</td>\n",
       "      <td>NL</td>\n",
       "      <td>CHN</td>\n",
       "      <td>NL</td>\n",
       "      <td>N</td>\n",
       "      <td>0</td>\n",
       "      <td>CHI11</td>\n",
       "      <td>000000000</td>\n",
       "      <td>000000000</td>\n",
       "      <td>...</td>\n",
       "      <td>heimj001</td>\n",
       "      <td>Jonah Heim</td>\n",
       "      <td>brenw002</td>\n",
       "      <td>Will Brennan</td>\n",
       "      <td>arcio002</td>\n",
       "      <td>Orlando Arcia</td>\n",
       "      <td>maldm001</td>\n",
       "      <td>Martin Maldonado</td>\n",
       "      <td>0</td>\n",
       "      <td>Y</td>\n",
       "    </tr>\n",
       "    <tr>\n",
       "      <th>freq</th>\n",
       "      <td>412</td>\n",
       "      <td>81</td>\n",
       "      <td>1215</td>\n",
       "      <td>81</td>\n",
       "      <td>1215</td>\n",
       "      <td>1501</td>\n",
       "      <td>2424</td>\n",
       "      <td>81</td>\n",
       "      <td>169</td>\n",
       "      <td>132</td>\n",
       "      <td>...</td>\n",
       "      <td>48</td>\n",
       "      <td>48</td>\n",
       "      <td>30</td>\n",
       "      <td>30</td>\n",
       "      <td>55</td>\n",
       "      <td>55</td>\n",
       "      <td>58</td>\n",
       "      <td>58</td>\n",
       "      <td>2417</td>\n",
       "      <td>2430</td>\n",
       "    </tr>\n",
       "  </tbody>\n",
       "</table>\n",
       "<p>4 rows × 74 columns</p>\n",
       "</div>"
      ],
      "text/plain": [
       "       day_of_week v_name v_league h_name h_league day_night  completion  \\\n",
       "count         2430   2430     2430   2430     2430      2430        2430   \n",
       "unique           7     30        2     30        2         2           7   \n",
       "top            Sat    MIL       NL    CHN       NL         N           0   \n",
       "freq           412     81     1215     81     1215      1501        2424   \n",
       "\n",
       "       park_id v_line_score h_line_score  ... h_player_6_id h_player_6_name  \\\n",
       "count     2430         2430         2430  ...          2430            2430   \n",
       "unique      33         1514         1624  ...           380             379   \n",
       "top      CHI11    000000000    000000000  ...      heimj001      Jonah Heim   \n",
       "freq        81          169          132  ...            48              48   \n",
       "\n",
       "       h_player_7_id h_player_7_name h_player_8_id h_player_8_name  \\\n",
       "count           2430            2430          2430            2430   \n",
       "unique           418             418           395             394   \n",
       "top         brenw002    Will Brennan      arcio002   Orlando Arcia   \n",
       "freq              30              30            55              55   \n",
       "\n",
       "       h_player_9_id   h_player_9_name additional_info acquisition_info  \n",
       "count           2430              2430            2430             2430  \n",
       "unique           331               331              13                1  \n",
       "top         maldm001  Martin Maldonado               0                Y  \n",
       "freq              58                58            2417             2430  \n",
       "\n",
       "[4 rows x 74 columns]"
      ]
     },
     "execution_count": 10,
     "metadata": {},
     "output_type": "execute_result"
    }
   ],
   "source": [
    "%%RecordEvent\n",
    "gl_obj = gl.select_dtypes(include=['object']).copy()\n",
    "gl_obj.describe()"
   ]
  },
  {
   "cell_type": "code",
   "execution_count": 11,
   "metadata": {
    "pycharm": {
     "name": "#%%\n"
    }
   },
   "outputs": [
    {
     "name": "stdout",
     "output_type": "stream",
     "text": [
      "0    Thu\n",
      "1    Thu\n",
      "2    Thu\n",
      "3    Thu\n",
      "4    Thu\n",
      "Name: day_of_week, dtype: object\n",
      "0    Thu\n",
      "1    Thu\n",
      "2    Thu\n",
      "3    Thu\n",
      "4    Thu\n",
      "Name: day_of_week, dtype: category\n",
      "Categories (7, object): ['Fri', 'Mon', 'Sat', 'Sun', 'Thu', 'Tue', 'Wed']\n"
     ]
    }
   ],
   "source": [
    "%%RecordEvent\n",
    "dow = gl_obj.day_of_week\n",
    "print(dow.head())\n",
    "dow_cat = dow.astype('category')\n",
    "print(dow_cat.head())"
   ]
  },
  {
   "cell_type": "code",
   "execution_count": 12,
   "metadata": {
    "pycharm": {
     "name": "#%%\n"
    }
   },
   "outputs": [],
   "source": [
    "%%RecordEvent\n",
    "converted_obj = pd.DataFrame()\n",
    "for col in gl_obj.columns:\n",
    "    num_unique_values = len(gl_obj[col].unique())\n",
    "    num_total_values = len(gl_obj[col])\n",
    "    if num_unique_values / num_total_values < 0.5:\n",
    "        converted_obj.loc[:,col] = gl_obj[col].astype('category')\n",
    "    else:\n",
    "        converted_obj.loc[:,col] = gl_obj[col]"
   ]
  },
  {
   "cell_type": "code",
   "execution_count": 13,
   "metadata": {
    "pycharm": {
     "name": "#%%\n"
    }
   },
   "outputs": [
    {
     "name": "stdout",
     "output_type": "stream",
     "text": [
      "migration speed (bps): 690692167.7980205\n"
     ]
    },
    {
     "ename": "ValueError",
     "evalue": "buffer source array is read-only",
     "output_type": "error",
     "traceback": [
      "\u001b[0;31m---------------------------------------------------------------------------\u001b[0m",
      "\u001b[0;31mValueError\u001b[0m                                Traceback (most recent call last)",
      "Cell \u001b[0;32mIn[13], line 1\u001b[0m\n\u001b[0;32m----> 1\u001b[0m \u001b[43mget_ipython\u001b[49m\u001b[43m(\u001b[49m\u001b[43m)\u001b[49m\u001b[38;5;241;43m.\u001b[39;49m\u001b[43mrun_line_magic\u001b[49m\u001b[43m(\u001b[49m\u001b[38;5;124;43m'\u001b[39;49m\u001b[38;5;124;43mCheckpoint\u001b[39;49m\u001b[38;5;124;43m'\u001b[39;49m\u001b[43m,\u001b[49m\u001b[43m \u001b[49m\u001b[38;5;124;43m'\u001b[39;49m\u001b[38;5;124;43mcheckpoints/pandas.pickle\u001b[39;49m\u001b[38;5;124;43m'\u001b[39;49m\u001b[43m)\u001b[49m\n",
      "File \u001b[0;32m/mnt/c/Users/RECODE/Programs/ElasticNotebook/.linux-venv/lib/python3.10/site-packages/IPython/core/interactiveshell.py:2480\u001b[0m, in \u001b[0;36mInteractiveShell.run_line_magic\u001b[0;34m(self, magic_name, line, _stack_depth)\u001b[0m\n\u001b[1;32m   2478\u001b[0m     kwargs[\u001b[38;5;124m'\u001b[39m\u001b[38;5;124mlocal_ns\u001b[39m\u001b[38;5;124m'\u001b[39m] \u001b[38;5;241m=\u001b[39m \u001b[38;5;28mself\u001b[39m\u001b[38;5;241m.\u001b[39mget_local_scope(stack_depth)\n\u001b[1;32m   2479\u001b[0m \u001b[38;5;28;01mwith\u001b[39;00m \u001b[38;5;28mself\u001b[39m\u001b[38;5;241m.\u001b[39mbuiltin_trap:\n\u001b[0;32m-> 2480\u001b[0m     result \u001b[38;5;241m=\u001b[39m \u001b[43mfn\u001b[49m\u001b[43m(\u001b[49m\u001b[38;5;241;43m*\u001b[39;49m\u001b[43margs\u001b[49m\u001b[43m,\u001b[49m\u001b[43m \u001b[49m\u001b[38;5;241;43m*\u001b[39;49m\u001b[38;5;241;43m*\u001b[39;49m\u001b[43mkwargs\u001b[49m\u001b[43m)\u001b[49m\n\u001b[1;32m   2482\u001b[0m \u001b[38;5;66;03m# The code below prevents the output from being displayed\u001b[39;00m\n\u001b[1;32m   2483\u001b[0m \u001b[38;5;66;03m# when using magics with decorator @output_can_be_silenced\u001b[39;00m\n\u001b[1;32m   2484\u001b[0m \u001b[38;5;66;03m# when the last Python token in the expression is a ';'.\u001b[39;00m\n\u001b[1;32m   2485\u001b[0m \u001b[38;5;28;01mif\u001b[39;00m \u001b[38;5;28mgetattr\u001b[39m(fn, magic\u001b[38;5;241m.\u001b[39mMAGIC_OUTPUT_CAN_BE_SILENCED, \u001b[38;5;28;01mFalse\u001b[39;00m):\n",
      "File \u001b[0;32m/mnt/c/Users/RECODE/Programs/ElasticNotebook/ElasticNotebook.py:240\u001b[0m, in \u001b[0;36mElasticNotebook.Checkpoint\u001b[0;34m(self, filename)\u001b[0m\n\u001b[1;32m    237\u001b[0m     \u001b[38;5;28mself\u001b[39m\u001b[38;5;241m.\u001b[39mselector\u001b[38;5;241m.\u001b[39mmigration_speed_bps \u001b[38;5;241m=\u001b[39m \u001b[38;5;28mself\u001b[39m\u001b[38;5;241m.\u001b[39mmigration_speed_bps\n\u001b[1;32m    239\u001b[0m \u001b[38;5;66;03m# Checkpoint the notebook.\u001b[39;00m\n\u001b[0;32m--> 240\u001b[0m \u001b[43mcheckpoint\u001b[49m\u001b[43m(\u001b[49m\u001b[38;5;28;43mself\u001b[39;49m\u001b[38;5;241;43m.\u001b[39;49m\u001b[43mdependency_graph\u001b[49m\u001b[43m,\u001b[49m\u001b[43m \u001b[49m\u001b[38;5;28;43mself\u001b[39;49m\u001b[38;5;241;43m.\u001b[39;49m\u001b[43mshell\u001b[49m\u001b[43m,\u001b[49m\u001b[43m \u001b[49m\u001b[38;5;28;43mself\u001b[39;49m\u001b[38;5;241;43m.\u001b[39;49m\u001b[43mfingerprint_dict\u001b[49m\u001b[43m,\u001b[49m\u001b[43m \u001b[49m\u001b[38;5;28;43mself\u001b[39;49m\u001b[38;5;241;43m.\u001b[39;49m\u001b[43mselector\u001b[49m\u001b[43m,\u001b[49m\u001b[43m \u001b[49m\u001b[38;5;28;43mself\u001b[39;49m\u001b[38;5;241;43m.\u001b[39;49m\u001b[43mudfs\u001b[49m\u001b[43m,\u001b[49m\n\u001b[1;32m    241\u001b[0m \u001b[43m           \u001b[49m\u001b[43mfilename\u001b[49m\u001b[43m,\u001b[49m\u001b[43m \u001b[49m\u001b[38;5;28;43mself\u001b[39;49m\u001b[38;5;241;43m.\u001b[39;49m\u001b[43mprofile_dict\u001b[49m\u001b[43m,\u001b[49m\u001b[43m \u001b[49m\u001b[38;5;28;43mself\u001b[39;49m\u001b[38;5;241;43m.\u001b[39;49m\u001b[43mwrite_log_location\u001b[49m\u001b[43m,\u001b[49m\u001b[43m \u001b[49m\u001b[38;5;28;43mself\u001b[39;49m\u001b[38;5;241;43m.\u001b[39;49m\u001b[43mnotebook_name\u001b[49m\u001b[43m,\u001b[49m\u001b[43m \u001b[49m\u001b[38;5;28;43mself\u001b[39;49m\u001b[38;5;241;43m.\u001b[39;49m\u001b[43moptimizer_name\u001b[49m\u001b[43m)\u001b[49m\n",
      "File \u001b[0;32m/mnt/c/Users/RECODE/Programs/ElasticNotebook/elastic/core/notebook/checkpoint.py:52\u001b[0m, in \u001b[0;36mcheckpoint\u001b[0;34m(graph, shell, fingerprint_dict, selector, udfs, filename, profile_dict, write_log_location, notebook_name, optimizer_name)\u001b[0m\n\u001b[1;32m     48\u001b[0m         active_vs\u001b[38;5;241m.\u001b[39msize \u001b[38;5;241m=\u001b[39m np\u001b[38;5;241m.\u001b[39minf\n\u001b[1;32m     50\u001b[0m     \u001b[38;5;66;03m# Profile size of object.\u001b[39;00m\n\u001b[1;32m     51\u001b[0m     \u001b[38;5;28;01melse\u001b[39;00m:\n\u001b[0;32m---> 52\u001b[0m         active_vs\u001b[38;5;241m.\u001b[39msize \u001b[38;5;241m=\u001b[39m \u001b[43mprofile_variable_size\u001b[49m\u001b[43m(\u001b[49m\u001b[43mshell\u001b[49m\u001b[38;5;241;43m.\u001b[39;49m\u001b[43muser_ns\u001b[49m\u001b[43m[\u001b[49m\u001b[43mactive_vs\u001b[49m\u001b[38;5;241;43m.\u001b[39;49m\u001b[43mname\u001b[49m\u001b[43m]\u001b[49m\u001b[43m)\u001b[49m\n\u001b[1;32m     54\u001b[0m \u001b[38;5;66;03m# Check for pairwise variable intersections. Variables sharing underlying data must be migrated or recomputed\u001b[39;00m\n\u001b[1;32m     55\u001b[0m \u001b[38;5;66;03m# together.\u001b[39;00m\n\u001b[1;32m     56\u001b[0m overlapping_vss \u001b[38;5;241m=\u001b[39m []\n",
      "File \u001b[0;32m/mnt/c/Users/RECODE/Programs/ElasticNotebook/elastic/core/common/profile_variable_size.py:54\u001b[0m, in \u001b[0;36mprofile_variable_size\u001b[0;34m(x)\u001b[0m\n\u001b[1;32m     48\u001b[0m \u001b[38;5;28;01mdef\u001b[39;00m \u001b[38;5;21mprofile_variable_size\u001b[39m(x) \u001b[38;5;241m-\u001b[39m\u001b[38;5;241m>\u001b[39m \u001b[38;5;28mint\u001b[39m:\n\u001b[1;32m     49\u001b[0m \u001b[38;5;250m    \u001b[39m\u001b[38;5;124;03m\"\"\"\u001b[39;00m\n\u001b[1;32m     50\u001b[0m \u001b[38;5;124;03m        Profiles the size of variable x. Notably, this should recursively find the size of lists, sets and dictionaries.\u001b[39;00m\n\u001b[1;32m     51\u001b[0m \u001b[38;5;124;03m        Args:\u001b[39;00m\n\u001b[1;32m     52\u001b[0m \u001b[38;5;124;03m            x: The variable to profile.\u001b[39;00m\n\u001b[1;32m     53\u001b[0m \u001b[38;5;124;03m    \"\"\"\u001b[39;00m\n\u001b[0;32m---> 54\u001b[0m     \u001b[38;5;28;01mreturn\u001b[39;00m \u001b[43mget_total_size\u001b[49m\u001b[43m(\u001b[49m\u001b[43mx\u001b[49m\u001b[43m)\u001b[49m\n",
      "File \u001b[0;32m/mnt/c/Users/RECODE/Programs/ElasticNotebook/elastic/core/common/profile_variable_size.py:45\u001b[0m, in \u001b[0;36mget_total_size\u001b[0;34m(data)\u001b[0m\n\u001b[1;32m     42\u001b[0m             \u001b[38;5;28;01mraise\u001b[39;00m \u001b[38;5;167;01mNotImplementedError\u001b[39;00m(\u001b[38;5;124m\"\u001b[39m\u001b[38;5;124mNot handled\u001b[39m\u001b[38;5;124m\"\u001b[39m, obj)\n\u001b[1;32m     43\u001b[0m     \u001b[38;5;28;01mreturn\u001b[39;00m total_size\n\u001b[0;32m---> 45\u001b[0m \u001b[38;5;28;01mreturn\u001b[39;00m \u001b[43mget_memory_size\u001b[49m\u001b[43m(\u001b[49m\u001b[43mdata\u001b[49m\u001b[43m,\u001b[49m\u001b[43m \u001b[49m\u001b[38;5;28;43;01mTrue\u001b[39;49;00m\u001b[43m,\u001b[49m\u001b[43m \u001b[49m\u001b[38;5;28;43mset\u001b[39;49m\u001b[43m(\u001b[49m\u001b[43m)\u001b[49m\u001b[43m)\u001b[49m\n",
      "File \u001b[0;32m/mnt/c/Users/RECODE/Programs/ElasticNotebook/elastic/core/common/profile_variable_size.py:15\u001b[0m, in \u001b[0;36mget_total_size.<locals>.get_memory_size\u001b[0;34m(obj, is_initialize, visited)\u001b[0m\n\u001b[1;32m     13\u001b[0m     \u001b[38;5;28;01mreturn\u001b[39;00m \u001b[38;5;241m0\u001b[39m\n\u001b[1;32m     14\u001b[0m visited\u001b[38;5;241m.\u001b[39madd(obj_id)\n\u001b[0;32m---> 15\u001b[0m total_size \u001b[38;5;241m=\u001b[39m \u001b[43msys\u001b[49m\u001b[38;5;241;43m.\u001b[39;49m\u001b[43mgetsizeof\u001b[49m\u001b[43m(\u001b[49m\u001b[43mobj\u001b[49m\u001b[43m)\u001b[49m\n\u001b[1;32m     16\u001b[0m obj_type \u001b[38;5;241m=\u001b[39m \u001b[38;5;28mtype\u001b[39m(obj)\n\u001b[1;32m     17\u001b[0m \u001b[38;5;28;01mif\u001b[39;00m obj_type \u001b[38;5;129;01min\u001b[39;00m [\u001b[38;5;28mint\u001b[39m, \u001b[38;5;28mfloat\u001b[39m, \u001b[38;5;28mstr\u001b[39m, \u001b[38;5;28mbool\u001b[39m, \u001b[38;5;28mtype\u001b[39m(\u001b[38;5;28;01mNone\u001b[39;00m)]:\n\u001b[1;32m     18\u001b[0m     \u001b[38;5;66;03m# if the original obj is not primitive, then the size is already included\u001b[39;00m\n",
      "File \u001b[0;32m/mnt/c/Users/RECODE/Programs/ElasticNotebook/.linux-venv/lib/python3.10/site-packages/pandas/core/base.py:140\u001b[0m, in \u001b[0;36mPandasObject.__sizeof__\u001b[0;34m(self)\u001b[0m\n\u001b[1;32m    138\u001b[0m memory_usage \u001b[38;5;241m=\u001b[39m \u001b[38;5;28mgetattr\u001b[39m(\u001b[38;5;28mself\u001b[39m, \u001b[38;5;124m\"\u001b[39m\u001b[38;5;124mmemory_usage\u001b[39m\u001b[38;5;124m\"\u001b[39m, \u001b[38;5;28;01mNone\u001b[39;00m)\n\u001b[1;32m    139\u001b[0m \u001b[38;5;28;01mif\u001b[39;00m memory_usage:\n\u001b[0;32m--> 140\u001b[0m     mem \u001b[38;5;241m=\u001b[39m \u001b[43mmemory_usage\u001b[49m\u001b[43m(\u001b[49m\u001b[43mdeep\u001b[49m\u001b[38;5;241;43m=\u001b[39;49m\u001b[38;5;28;43;01mTrue\u001b[39;49;00m\u001b[43m)\u001b[49m  \u001b[38;5;66;03m# pylint: disable=not-callable\u001b[39;00m\n\u001b[1;32m    141\u001b[0m     \u001b[38;5;28;01mreturn\u001b[39;00m \u001b[38;5;28mint\u001b[39m(mem \u001b[38;5;28;01mif\u001b[39;00m is_scalar(mem) \u001b[38;5;28;01melse\u001b[39;00m mem\u001b[38;5;241m.\u001b[39msum())\n\u001b[1;32m    143\u001b[0m \u001b[38;5;66;03m# no memory_usage attribute, so fall back to object's 'sizeof'\u001b[39;00m\n",
      "File \u001b[0;32m/mnt/c/Users/RECODE/Programs/ElasticNotebook/.linux-venv/lib/python3.10/site-packages/pandas/core/series.py:5481\u001b[0m, in \u001b[0;36mSeries.memory_usage\u001b[0;34m(self, index, deep)\u001b[0m\n\u001b[1;32m   5432\u001b[0m \u001b[38;5;28;01mdef\u001b[39;00m \u001b[38;5;21mmemory_usage\u001b[39m(\u001b[38;5;28mself\u001b[39m, index: \u001b[38;5;28mbool\u001b[39m \u001b[38;5;241m=\u001b[39m \u001b[38;5;28;01mTrue\u001b[39;00m, deep: \u001b[38;5;28mbool\u001b[39m \u001b[38;5;241m=\u001b[39m \u001b[38;5;28;01mFalse\u001b[39;00m) \u001b[38;5;241m-\u001b[39m\u001b[38;5;241m>\u001b[39m \u001b[38;5;28mint\u001b[39m:\n\u001b[1;32m   5433\u001b[0m \u001b[38;5;250m    \u001b[39m\u001b[38;5;124;03m\"\"\"\u001b[39;00m\n\u001b[1;32m   5434\u001b[0m \u001b[38;5;124;03m    Return the memory usage of the Series.\u001b[39;00m\n\u001b[1;32m   5435\u001b[0m \n\u001b[0;32m   (...)\u001b[0m\n\u001b[1;32m   5479\u001b[0m \u001b[38;5;124;03m    244\u001b[39;00m\n\u001b[1;32m   5480\u001b[0m \u001b[38;5;124;03m    \"\"\"\u001b[39;00m\n\u001b[0;32m-> 5481\u001b[0m     v \u001b[38;5;241m=\u001b[39m \u001b[38;5;28;43mself\u001b[39;49m\u001b[38;5;241;43m.\u001b[39;49m\u001b[43m_memory_usage\u001b[49m\u001b[43m(\u001b[49m\u001b[43mdeep\u001b[49m\u001b[38;5;241;43m=\u001b[39;49m\u001b[43mdeep\u001b[49m\u001b[43m)\u001b[49m\n\u001b[1;32m   5482\u001b[0m     \u001b[38;5;28;01mif\u001b[39;00m index:\n\u001b[1;32m   5483\u001b[0m         v \u001b[38;5;241m+\u001b[39m\u001b[38;5;241m=\u001b[39m \u001b[38;5;28mself\u001b[39m\u001b[38;5;241m.\u001b[39mindex\u001b[38;5;241m.\u001b[39mmemory_usage(deep\u001b[38;5;241m=\u001b[39mdeep)\n",
      "File \u001b[0;32m/mnt/c/Users/RECODE/Programs/ElasticNotebook/.linux-venv/lib/python3.10/site-packages/pandas/core/base.py:1174\u001b[0m, in \u001b[0;36mIndexOpsMixin._memory_usage\u001b[0;34m(self, deep)\u001b[0m\n\u001b[1;32m   1172\u001b[0m \u001b[38;5;28;01mif\u001b[39;00m deep \u001b[38;5;129;01mand\u001b[39;00m is_object_dtype(\u001b[38;5;28mself\u001b[39m\u001b[38;5;241m.\u001b[39mdtype) \u001b[38;5;129;01mand\u001b[39;00m \u001b[38;5;129;01mnot\u001b[39;00m PYPY:\n\u001b[1;32m   1173\u001b[0m     values \u001b[38;5;241m=\u001b[39m cast(np\u001b[38;5;241m.\u001b[39mndarray, \u001b[38;5;28mself\u001b[39m\u001b[38;5;241m.\u001b[39m_values)\n\u001b[0;32m-> 1174\u001b[0m     v \u001b[38;5;241m+\u001b[39m\u001b[38;5;241m=\u001b[39m \u001b[43mlib\u001b[49m\u001b[38;5;241;43m.\u001b[39;49m\u001b[43mmemory_usage_of_objects\u001b[49m\u001b[43m(\u001b[49m\u001b[43mvalues\u001b[49m\u001b[43m)\u001b[49m\n\u001b[1;32m   1175\u001b[0m \u001b[38;5;28;01mreturn\u001b[39;00m v\n",
      "File \u001b[0;32mlib.pyx:140\u001b[0m, in \u001b[0;36mpandas._libs.lib.memory_usage_of_objects\u001b[0;34m()\u001b[0m\n",
      "File \u001b[0;32m<stringsource>:663\u001b[0m, in \u001b[0;36mView.MemoryView.memoryview_cwrapper\u001b[0;34m()\u001b[0m\n",
      "File \u001b[0;32m<stringsource>:353\u001b[0m, in \u001b[0;36mView.MemoryView.memoryview.__cinit__\u001b[0;34m()\u001b[0m\n",
      "\u001b[0;31mValueError\u001b[0m: buffer source array is read-only"
     ]
    }
   ],
   "source": [
    "%Checkpoint checkpoints/pandas.pickle"
   ]
  },
  {
   "cell_type": "code",
   "execution_count": null,
   "metadata": {},
   "outputs": [],
   "source": [
    "%who"
   ]
  }
 ],
 "metadata": {
  "kernelspec": {
   "display_name": "Python 3 (ipykernel)",
   "language": "python",
   "name": "python3"
  },
  "language_info": {
   "codemirror_mode": {
    "name": "ipython",
    "version": 3
   },
   "file_extension": ".py",
   "mimetype": "text/x-python",
   "name": "python",
   "nbconvert_exporter": "python",
   "pygments_lexer": "ipython3",
   "version": "3.10.12"
  }
 },
 "nbformat": 4,
 "nbformat_minor": 4
}
