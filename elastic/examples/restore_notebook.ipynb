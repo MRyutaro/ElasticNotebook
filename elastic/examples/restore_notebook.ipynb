{
 "cells": [
  {
   "cell_type": "code",
   "execution_count": 1,
   "metadata": {
    "pycharm": {
     "name": "#%%\n"
    },
    "tags": []
   },
   "outputs": [
    {
     "name": "stderr",
     "output_type": "stream",
     "text": [
      "/mnt/c/Users/RECODE/Programs/ElasticNotebook/.linux-venv/lib/python3.10/site-packages/numpy/_core/getlimits.py:548: UserWarning: Signature b'\\x00\\xd0\\xcc\\xcc\\xcc\\xcc\\xcc\\xcc\\xfb\\xbf\\x00\\x00\\x00\\x00\\x00\\x00' for <class 'numpy.longdouble'> does not match any known type: falling back to type probe function.\n",
      "This warnings indicates broken support for the dtype!\n",
      "  machar = _get_machar(dtype)\n"
     ]
    }
   ],
   "source": [
    "import sys, os\n",
    "sys.path.insert(0, os.path.abspath(\"../..\"))\n",
    "%load_ext ElasticNotebook"
   ]
  },
  {
   "cell_type": "code",
   "execution_count": 2,
   "metadata": {
    "collapsed": false,
    "jupyter": {
     "outputs_hidden": false
    },
    "pycharm": {
     "name": "#%%\n"
    }
   },
   "outputs": [
    {
     "name": "stdout",
     "output_type": "stream",
     "text": [
      "[[<elastic.core.graph.variable_snapshot.VariableSnapshot object at 0x7f9606bef520>]]\n",
      "trying: ['mem_usage']\n",
      "me:  4\n",
      "Rerunning cell 1\n",
      "Rerunning cell 2\n",
      "Rerunning cell 4\n",
      "Declaring variable mem_usage\n",
      "Rerunning cell 6\n",
      "Rerunning cell 7\n",
      "Rerunning cell 8\n",
      "Rerunning cell 9\n",
      "Rerunning cell 10\n",
      "Rerunning cell 11\n"
     ]
    }
   ],
   "source": [
    "# Load the checkpointed notebook here\n",
    "# OK\n",
    "# %LoadCheckpoint checkpoints/numpy.pickle\n",
    "# OK\n",
    "# %LoadCheckpoint checkpoints/pandas.pickle\n",
    "Error\n",
    "%LoadCheckpoint checkpoints/pyspark.pickle\n",
    "# OK\n",
    "# %LoadCheckpoint checkpoints/simple.pickle"
   ]
  },
  {
   "cell_type": "code",
   "execution_count": 3,
   "metadata": {
    "collapsed": false,
    "jupyter": {
     "outputs_hidden": false
    },
    "pycharm": {
     "name": "#%%\n"
    }
   },
   "outputs": [
    {
     "name": "stdout",
     "output_type": "stream",
     "text": [
      "col\t compare_floats\t compare_ints\t converted_float\t converted_int\t converted_obj\t dow\t dow_cat\t dtype\t \n",
      "gl\t gl_float\t gl_int\t gl_obj\t mean_usage_b\t mean_usage_mb\t mem_usage\t num_total_values\t num_unique_values\t \n",
      "optimized_gl\t os\t pd\t selected_dtype\t sys\t \n"
     ]
    }
   ],
   "source": [
    "# See all variables have restored.\n",
    "%who"
   ]
  }
 ],
 "metadata": {
  "kernelspec": {
   "display_name": "Python 3 (ipykernel)",
   "language": "python",
   "name": "python3"
  },
  "language_info": {
   "codemirror_mode": {
    "name": "ipython",
    "version": 3
   },
   "file_extension": ".py",
   "mimetype": "text/x-python",
   "name": "python",
   "nbconvert_exporter": "python",
   "pygments_lexer": "ipython3",
   "version": "3.10.12"
  }
 },
 "nbformat": 4,
 "nbformat_minor": 4
}
