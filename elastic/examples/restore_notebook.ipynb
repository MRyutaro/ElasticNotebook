{
 "cells": [
  {
   "cell_type": "code",
   "execution_count": 12,
   "metadata": {
    "pycharm": {
     "name": "#%%\n"
    },
    "tags": []
   },
   "outputs": [
    {
     "name": "stdout",
     "output_type": "stream",
     "text": [
      "The ElasticNotebook extension is already loaded. To reload it, use:\n",
      "  %reload_ext ElasticNotebook\n"
     ]
    }
   ],
   "source": [
    "import sys, os\n",
    "sys.path.insert(0, os.path.abspath(\"../..\"))\n",
    "%load_ext ElasticNotebook"
   ]
  },
  {
   "cell_type": "code",
   "execution_count": 15,
   "metadata": {
    "collapsed": false,
    "jupyter": {
     "outputs_hidden": false
    },
    "pycharm": {
     "name": "#%%\n"
    }
   },
   "outputs": [
    {
     "name": "stdout",
     "output_type": "stream",
     "text": [
      "[[<elastic.core.graph.variable_snapshot.VariableSnapshot object at 0x7f738d1e38e0>], [<elastic.core.graph.variable_snapshot.VariableSnapshot object at 0x7f738c680790>], [<elastic.core.graph.variable_snapshot.VariableSnapshot object at 0x7f738d1807c0>], [<elastic.core.graph.variable_snapshot.VariableSnapshot object at 0x7f738d1f0e50>], [<elastic.core.graph.variable_snapshot.VariableSnapshot object at 0x7f738c680670>], [<elastic.core.graph.variable_snapshot.VariableSnapshot object at 0x7f738b0850f0>], [<elastic.core.graph.variable_snapshot.VariableSnapshot object at 0x7f738c66d810>], [<elastic.core.graph.variable_snapshot.VariableSnapshot object at 0x7f738d1e3d90>], [<elastic.core.graph.variable_snapshot.VariableSnapshot object at 0x7f738c680100>], [<elastic.core.graph.variable_snapshot.VariableSnapshot object at 0x7f738c680310>], [<elastic.core.graph.variable_snapshot.VariableSnapshot object at 0x7f74b8342bc0>]]\n",
      "trying: ['knn']\n",
      "me:  7\n",
      "trying: ['iris_y_train']\n",
      "me:  6\n",
      "trying: ['np']\n",
      "me:  0\n",
      "trying: ['iris_X']\n",
      "me:  5\n",
      "trying: ['iris_X_train']\n",
      "me:  6\n",
      "trying: ['datasets']\n",
      "me:  0\n",
      "trying: ['iris_y']\n",
      "me:  5\n",
      "trying: ['indices']\n",
      "me:  7\n",
      "trying: ['KNeighborsClassifier']\n",
      "me:  0\n",
      "trying: ['iris_X_test']\n",
      "me:  6\n",
      "trying: ['iris_y_test']\n",
      "me:  6\n",
      "Declaring variable np\n",
      "Declaring variable datasets\n",
      "Declaring variable KNeighborsClassifier\n",
      "Declaring variable iris_X\n",
      "Declaring variable iris_y\n",
      "Declaring variable iris_y_train\n",
      "Declaring variable iris_X_train\n",
      "Declaring variable iris_X_test\n",
      "Declaring variable iris_y_test\n",
      "Declaring variable knn\n",
      "Declaring variable indices\n"
     ]
    }
   ],
   "source": [
    "# Load the checkpointed notebook here\n",
    "# OK\n",
    "# %LoadCheckpoint checkpoints/numpy.pickle\n",
    "# OK\n",
    "# %LoadCheckpoint checkpoints/pandas.pickle\n",
    "# Error\n",
    "# %LoadCheckpoint checkpoints/pyspark.pickle\n",
    "# Error\n",
    "%LoadCheckpoint checkpoints/pytorch.pickle\n",
    "# OK\n",
    "# %LoadCheckpoint checkpoints/simple.pickle"
   ]
  },
  {
   "cell_type": "code",
   "execution_count": 16,
   "metadata": {
    "collapsed": false,
    "jupyter": {
     "outputs_hidden": false
    },
    "pycharm": {
     "name": "#%%\n"
    }
   },
   "outputs": [
    {
     "name": "stdout",
     "output_type": "stream",
     "text": [
      "KNeighborsClassifier\t col\t compare_floats\t compare_ints\t converted_float\t converted_int\t converted_obj\t datasets\t dow\t \n",
      "dow_cat\t dtype\t gl\t gl_float\t gl_int\t gl_obj\t indices\t iris_X\t iris_X_test\t \n",
      "iris_X_train\t iris_y\t iris_y_test\t iris_y_train\t knn\t mean_usage_b\t mean_usage_mb\t mem_usage\t np\t \n",
      "num_total_values\t num_unique_values\t optimized_gl\t os\t pd\t selected_dtype\t sys\t \n"
     ]
    }
   ],
   "source": [
    "# See all variables have restored.\n",
    "%who"
   ]
  },
  {
   "cell_type": "code",
   "execution_count": null,
   "metadata": {},
   "outputs": [],
   "source": []
  }
 ],
 "metadata": {
  "kernelspec": {
   "display_name": "Python 3 (ipykernel)",
   "language": "python",
   "name": "python3"
  },
  "language_info": {
   "codemirror_mode": {
    "name": "ipython",
    "version": 3
   },
   "file_extension": ".py",
   "mimetype": "text/x-python",
   "name": "python",
   "nbconvert_exporter": "python",
   "pygments_lexer": "ipython3",
   "version": "3.12.2"
  }
 },
 "nbformat": 4,
 "nbformat_minor": 4
}
