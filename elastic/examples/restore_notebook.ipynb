{
 "cells": [
  {
   "cell_type": "code",
   "execution_count": 1,
   "metadata": {
    "pycharm": {
     "name": "#%%\n"
    },
    "tags": []
   },
   "outputs": [
    {
     "name": "stderr",
     "output_type": "stream",
     "text": [
      "/mnt/c/Users/RECODE/Programs/ElasticNotebook/.linux-venv/lib/python3.10/site-packages/numpy/_core/getlimits.py:548: UserWarning: Signature b'\\x00\\xd0\\xcc\\xcc\\xcc\\xcc\\xcc\\xcc\\xfb\\xbf\\x00\\x00\\x00\\x00\\x00\\x00' for <class 'numpy.longdouble'> does not match any known type: falling back to type probe function.\n",
      "This warnings indicates broken support for the dtype!\n",
      "  machar = _get_machar(dtype)\n"
     ]
    }
   ],
   "source": [
    "import sys, os\n",
    "sys.path.insert(0, os.path.abspath(\"../..\"))\n",
    "%load_ext ElasticNotebook"
   ]
  },
  {
   "cell_type": "code",
   "execution_count": 2,
   "metadata": {
    "collapsed": false,
    "jupyter": {
     "outputs_hidden": false
    },
    "pycharm": {
     "name": "#%%\n"
    }
   },
   "outputs": [
    {
     "name": "stdout",
     "output_type": "stream",
     "text": [
      "[[<elastic.core.graph.variable_snapshot.VariableSnapshot object at 0x7fb1ac402b30>, <elastic.core.graph.variable_snapshot.VariableSnapshot object at 0x7fb1ac403fa0>], [<elastic.core.graph.variable_snapshot.VariableSnapshot object at 0x7fb1ac402b30>, <elastic.core.graph.variable_snapshot.VariableSnapshot object at 0x7fb1ac402260>], [<elastic.core.graph.variable_snapshot.VariableSnapshot object at 0x7fb1ac401e70>], [<elastic.core.graph.variable_snapshot.VariableSnapshot object at 0x7fb1ac401f30>], [<elastic.core.graph.variable_snapshot.VariableSnapshot object at 0x7fb1ac401f00>], [<elastic.core.graph.variable_snapshot.VariableSnapshot object at 0x7fb1ac401e10>], [<elastic.core.graph.variable_snapshot.VariableSnapshot object at 0x7fb1ac402230>], [<elastic.core.graph.variable_snapshot.VariableSnapshot object at 0x7fb1ac402b30>]]\n",
      "trying: ['x', 'b']\n",
      "me:  1\n",
      "me:  4\n",
      "trying: ['x', 'a']\n",
      "me:  1\n",
      "me:  1\n",
      "trying: ['y']\n",
      "me:  1\n",
      "trying: ['z']\n",
      "me:  1\n",
      "trying: ['np']\n",
      "me:  2\n",
      "trying: ['random']\n",
      "me:  2\n",
      "trying: ['func']\n",
      "me:  4\n",
      "trying: ['x']\n",
      "me:  1\n",
      "Declaring variable x\n",
      "Declaring variable x\n",
      "Declaring variable a\n",
      "Declaring variable y\n",
      "Declaring variable z\n",
      "Declaring variable x\n",
      "Declaring variable np\n",
      "Declaring variable random\n",
      "Declaring variable b\n",
      "Declaring variable func\n"
     ]
    }
   ],
   "source": [
    "# Load the checkpointed notebook here\n",
    "# %LoadCheckpoint checkpoints/numpy.pickle\n",
    "# %LoadCheckpoint checkpoints/pandas.pickle\n",
    "# %LoadCheckpoint checkpoints/pyspark.pickle\n",
    "%LoadCheckpoint checkpoints/simple.pickle"
   ]
  },
  {
   "cell_type": "code",
   "execution_count": 3,
   "metadata": {
    "collapsed": false,
    "jupyter": {
     "outputs_hidden": false
    },
    "pycharm": {
     "name": "#%%\n"
    }
   },
   "outputs": [
    {
     "name": "stdout",
     "output_type": "stream",
     "text": [
      "a\t b\t func\t np\t os\t random\t sys\t x\t y\t \n",
      "z\t \n"
     ]
    }
   ],
   "source": [
    "# See all variables have restored.\n",
    "%who\n"
   ]
  },
  {
   "cell_type": "code",
   "execution_count": null,
   "metadata": {
    "collapsed": false,
    "jupyter": {
     "outputs_hidden": false
    },
    "pycharm": {
     "name": "#%%\n"
    }
   },
   "outputs": [],
   "source": []
  }
 ],
 "metadata": {
  "kernelspec": {
   "display_name": "Python 3 (ipykernel)",
   "language": "python",
   "name": "python3"
  },
  "language_info": {
   "codemirror_mode": {
    "name": "ipython",
    "version": 3
   },
   "file_extension": ".py",
   "mimetype": "text/x-python",
   "name": "python",
   "nbconvert_exporter": "python",
   "pygments_lexer": "ipython3",
   "version": "3.10.12"
  }
 },
 "nbformat": 4,
 "nbformat_minor": 4
}
