{
 "cells": [
  {
   "cell_type": "code",
   "execution_count": 1,
   "id": "9d372b7d-a7eb-4ad2-a31e-4ad57ba22b46",
   "metadata": {},
   "outputs": [],
   "source": [
    "import sys, os\n",
    "sys.path.insert(0, os.path.abspath(\"../..\"))\n",
    "%load_ext ElasticNotebook"
   ]
  },
  {
   "cell_type": "code",
   "execution_count": null,
   "id": "8afe2a17-e4d7-429e-b514-6107ae34bb20",
   "metadata": {},
   "outputs": [],
   "source": [
    "import time"
   ]
  },
  {
   "cell_type": "code",
   "execution_count": 3,
   "id": "7b055bf3-c04b-44ad-83bc-0fccd190a2be",
   "metadata": {},
   "outputs": [
    {
     "name": "stdout",
     "output_type": "stream",
     "text": [
      "self.fingerprint_dict={}\n",
      "get_ipython()=<ipykernel.zmqshell.ZMQInteractiveShell object at 0x7f08053b8040>\n",
      "7.891654968261719e-05\n",
      "pre_execution={'quit', '_ih', '_i1', '__package__', '_dh', '_oh', '_i2', '__loader__', '_iii', '__doc__', '_', 'open', 'Out', '_ii', 'sys', '__session__', 'time', 'exit', '___', '__name__', 'In', '__', '_i', '__builtin__', 'get_ipython', '__builtins__', '_i3', '__spec__', 'os'}\n",
      "post_execution={'e', 'quit', '_ih', '_i1', '__package__', '_dh', 'c', '_oh', '_i2', '__loader__', 'a', '_iii', 'd', '__doc__', '_', 'open', 'Out', 'start_time', '_ii', 'sys', '__session__', 'time', 'exit', '___', '__name__', 'In', '__', '_i', '__builtin__', 'get_ipython', '__builtins__', '_i3', '__spec__', 'b', 'os'}\n",
      "created_variables={'e', 'start_time', 'a', 'd', 'b', 'c'}\n",
      "deleted_variables=set()\n",
      "self.fingerprint_dict={}\n",
      "self.shell.user_ns={'__name__': '__main__', '__doc__': 'Automatically created module for IPython interactive environment', '__package__': None, '__loader__': None, '__spec__': None, '__builtin__': <module 'builtins' (built-in)>, '__builtins__': <module 'builtins' (built-in)>, '_ih': ['', 'import sys, os\\nsys.path.insert(0, os.path.abspath(\"../..\"))\\nget_ipython().run_line_magic(\\'load_ext\\', \\'ElasticNotebook\\')', 'import time', \"get_ipython().run_cell_magic('RecordEvent', '', 'start_time = time.time()\\\\na = 0\\\\nb = 0\\\\nc = 0\\\\nd = 0\\\\ne = 0\\\\nprint(time.time() - start_time)\\\\n')\"], '_oh': {}, '_dh': [PosixPath('/workspaces/ElasticNotebook/elastic/examples')], 'In': ['', 'import sys, os\\nsys.path.insert(0, os.path.abspath(\"../..\"))\\nget_ipython().run_line_magic(\\'load_ext\\', \\'ElasticNotebook\\')', 'import time', \"get_ipython().run_cell_magic('RecordEvent', '', 'start_time = time.time()\\\\na = 0\\\\nb = 0\\\\nc = 0\\\\nd = 0\\\\ne = 0\\\\nprint(time.time() - start_time)\\\\n')\"], 'Out': {}, 'get_ipython': <bound method InteractiveShell.get_ipython of <ipykernel.zmqshell.ZMQInteractiveShell object at 0x7f08053b8040>>, 'exit': <IPython.core.autocall.ZMQExitAutocall object at 0x7f08053b8ca0>, 'quit': <IPython.core.autocall.ZMQExitAutocall object at 0x7f08053b8ca0>, 'open': <function open at 0x7f0816b96950>, '_': '', '__': '', '___': '', '__session__': '/workspaces/ElasticNotebook/elastic/examples/ex_5_record_overhead.ipynb', '_i': 'import time', '_ii': 'import sys, os\\nsys.path.insert(0, os.path.abspath(\"../..\"))\\n%load_ext ElasticNotebook', '_iii': '', '_i1': 'import sys, os\\nsys.path.insert(0, os.path.abspath(\"../..\"))\\n%load_ext ElasticNotebook', 'sys': <module 'sys' (built-in)>, 'os': <module 'os' from '/usr/lib/python3.10/os.py'>, '_i2': 'import time', 'time': <module 'time' (built-in)>, '_i3': '%%RecordEvent\\nstart_time = time.time()\\na = 0\\nb = 0\\nc = 0\\nd = 0\\ne = 0\\nprint(time.time() - start_time)', 'start_time': 1733766013.2291155, 'a': 0, 'b': 0, 'c': 0, 'd': 0, 'e': 0}\n",
      "self.profile_dict={'idgraph': 0, 'representation': 0}\n",
      "input_variables_id_graph_union=set()\n",
      "self.dependency_graph=<elastic.core.graph.graph.DependencyGraph object at 0x7f08053fac50>\n",
      "self.dependency_graph.variable_snapshots=defaultdict(<class 'list'>, {'e': [<elastic.core.graph.variable_snapshot.VariableSnapshot object at 0x7f06ea0976a0>], 'start_time': [<elastic.core.graph.variable_snapshot.VariableSnapshot object at 0x7f06ea097550>], 'a': [<elastic.core.graph.variable_snapshot.VariableSnapshot object at 0x7f06ea097520>], 'b': [<elastic.core.graph.variable_snapshot.VariableSnapshot object at 0x7f06ea097580>], 'd': [<elastic.core.graph.variable_snapshot.VariableSnapshot object at 0x7f06ea096d10>], 'c': [<elastic.core.graph.variable_snapshot.VariableSnapshot object at 0x7f06ea095ae0>]})\n"
     ]
    }
   ],
   "source": [
    "%%RecordEvent\n",
    "start_time = time.time()\n",
    "a = 0\n",
    "b = 0\n",
    "c = 0\n",
    "d = 0\n",
    "e = 0\n",
    "print(time.time() - start_time)"
   ]
  }
 ],
 "metadata": {
  "kernelspec": {
   "display_name": "Python 3 (ipykernel)",
   "language": "python",
   "name": "python3"
  },
  "language_info": {
   "codemirror_mode": {
    "name": "ipython",
    "version": 3
   },
   "file_extension": ".py",
   "mimetype": "text/x-python",
   "name": "python",
   "nbconvert_exporter": "python",
   "pygments_lexer": "ipython3",
   "version": "3.10.12"
  }
 },
 "nbformat": 4,
 "nbformat_minor": 5
}
