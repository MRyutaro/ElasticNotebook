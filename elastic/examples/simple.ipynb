{
 "cells": [
  {
   "cell_type": "code",
   "execution_count": 1,
   "metadata": {
    "pycharm": {
     "name": "#%%\n"
    },
    "tags": []
   },
   "outputs": [],
   "source": [
    "import sys, os\n",
    "sys.path.insert(0, os.path.abspath(\"../..\"))\n",
    "%load_ext ElasticNotebook"
   ]
  },
  {
   "cell_type": "code",
   "execution_count": 2,
   "metadata": {
    "collapsed": false,
    "jupyter": {
     "outputs_hidden": false
    },
    "pycharm": {
     "name": "#%%\n"
    },
    "tags": []
   },
   "outputs": [],
   "source": [
    "%%RecordEvent\n",
    "x = 1"
   ]
  },
  {
   "cell_type": "code",
   "execution_count": 3,
   "metadata": {
    "collapsed": false,
    "jupyter": {
     "outputs_hidden": false
    },
    "pycharm": {
     "name": "#%%\n"
    },
    "tags": []
   },
   "outputs": [],
   "source": [
    "%%RecordEvent\n",
    "y = x\n",
    "x = x + 1\n",
    "z = 1\n",
    "a = 1\n",
    "del a\n",
    "a = 2"
   ]
  },
  {
   "cell_type": "code",
   "execution_count": 4,
   "metadata": {
    "collapsed": false,
    "jupyter": {
     "outputs_hidden": false
    },
    "pycharm": {
     "name": "#%%\n"
    },
    "tags": []
   },
   "outputs": [],
   "source": [
    "%%RecordEvent\n",
    "# Record imported libraries\n",
    "import numpy as np\n",
    "from numpy import random"
   ]
  },
  {
   "cell_type": "code",
   "execution_count": 5,
   "metadata": {
    "collapsed": false,
    "jupyter": {
     "outputs_hidden": false
    },
    "pycharm": {
     "name": "#%%\n"
    }
   },
   "outputs": [],
   "source": [
    "%%RecordEvent\n",
    "b = 1"
   ]
  },
  {
   "cell_type": "code",
   "execution_count": 6,
   "metadata": {
    "collapsed": false,
    "jupyter": {
     "outputs_hidden": false
    },
    "pycharm": {
     "name": "#%%\n"
    }
   },
   "outputs": [],
   "source": [
    "%%RecordEvent\n",
    "def func():\n",
    "    global b\n",
    "    b += 1\n",
    "func()"
   ]
  },
  {
   "cell_type": "code",
   "execution_count": 7,
   "metadata": {
    "collapsed": false,
    "jupyter": {
     "outputs_hidden": false
    },
    "pycharm": {
     "name": "#%%\n"
    },
    "tags": []
   },
   "outputs": [
    {
     "name": "stdout",
     "output_type": "stream",
     "text": [
      "migration speed (bps) (total_bytes / (total_read_time + total_write_time * alpha)): 727796499.3742887\n",
      "|- total bytes: 799920000\n",
      "|- total read time: 0.0003464221954345703\n",
      "|- total write time: 1.0987520217895508\n",
      "|- alpha: 1\n",
      "graph.variable_snapshots.values(): dict_values([[<elastic.core.graph.variable_snapshot.VariableSnapshot object at 0x112162960>, <elastic.core.graph.variable_snapshot.VariableSnapshot object at 0x11233b0b0>], [<elastic.core.graph.variable_snapshot.VariableSnapshot object at 0x11233b710>], [<elastic.core.graph.variable_snapshot.VariableSnapshot object at 0x11233bb90>], [<elastic.core.graph.variable_snapshot.VariableSnapshot object at 0x11233b770>], [<elastic.core.graph.variable_snapshot.VariableSnapshot object at 0x11233b6b0>], [<elastic.core.graph.variable_snapshot.VariableSnapshot object at 0x11233b3e0>], [<elastic.core.graph.variable_snapshot.VariableSnapshot object at 0x11233aa80>, <elastic.core.graph.variable_snapshot.VariableSnapshot object at 0x1123a42c0>], [<elastic.core.graph.variable_snapshot.VariableSnapshot object at 0x1123a41d0>]])\n",
      "---------------------------\n",
      "variables to migrate:\n",
      "x 28\n",
      "b 28\n",
      "np 72\n",
      "y 28\n",
      "z 28\n",
      "a 28\n",
      "func 160\n",
      "random 72\n",
      "---------------------------\n",
      "variables to recompute:\n",
      "[]\n",
      "---------------------------\n",
      "cells to recompute:\n",
      "[]\n",
      "Checkpoint saved to: checkpoints/simple.pickle\n"
     ]
    }
   ],
   "source": [
    "%Checkpoint checkpoints/simple.pickle"
   ]
  },
  {
   "cell_type": "code",
   "execution_count": 8,
   "metadata": {},
   "outputs": [
    {
     "name": "stdout",
     "output_type": "stream",
     "text": [
      "a\t b\t func\t np\t os\t random\t sys\t x\t y\t \n",
      "z\t \n"
     ]
    }
   ],
   "source": [
    "%who"
   ]
  }
 ],
 "metadata": {
  "kernelspec": {
   "display_name": "Python 3 (ipykernel)",
   "language": "python",
   "name": "python3"
  },
  "language_info": {
   "codemirror_mode": {
    "name": "ipython",
    "version": 3
   },
   "file_extension": ".py",
   "mimetype": "text/x-python",
   "name": "python",
   "nbconvert_exporter": "python",
   "pygments_lexer": "ipython3",
   "version": "3.12.2"
  },
  "vscode": {
   "interpreter": {
    "hash": "831878006862ccc20c8644a68163e333be809b5fee14b33e0a32c4838e696fe8"
   }
  }
 },
 "nbformat": 4,
 "nbformat_minor": 4
}
