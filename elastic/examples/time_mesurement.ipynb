{
 "cells": [
  {
   "cell_type": "code",
   "execution_count": 75,
   "id": "9d372b7d-a7eb-4ad2-a31e-4ad57ba22b46",
   "metadata": {},
   "outputs": [
    {
     "name": "stdout",
     "output_type": "stream",
     "text": [
      "The ElasticNotebook extension is already loaded. To reload it, use:\n",
      "  %reload_ext ElasticNotebook\n"
     ]
    }
   ],
   "source": [
    "import sys, os\n",
    "sys.path.insert(0, os.path.abspath(\"../..\"))\n",
    "%load_ext ElasticNotebook"
   ]
  },
  {
   "cell_type": "code",
   "execution_count": 76,
   "id": "20d2f0e7-7e0d-46c7-9b06-c3626d0f91cd",
   "metadata": {},
   "outputs": [],
   "source": [
    "import time"
   ]
  },
  {
   "cell_type": "code",
   "execution_count": 77,
   "id": "a8e2d909-4dba-434e-a2ce-a3214d204b29",
   "metadata": {},
   "outputs": [
    {
     "name": "stdout",
     "output_type": "stream",
     "text": [
      "4.38690185546875e-05\n"
     ]
    }
   ],
   "source": [
    "%%RecordEvent\n",
    "start_time = time.time()\n",
    "print(time.time() - start_time)"
   ]
  },
  {
   "cell_type": "code",
   "execution_count": 82,
   "id": "7b055bf3-c04b-44ad-83bc-0fccd190a2be",
   "metadata": {},
   "outputs": [
    {
     "name": "stdout",
     "output_type": "stream",
     "text": [
      "0.00027632713317871094\n"
     ]
    }
   ],
   "source": [
    "%%RecordEvent\n",
    "start_time = time.time()\n",
    "a = 1\n",
    "b = 1\n",
    "c = 1\n",
    "d = 1\n",
    "e = 1\n",
    "print(time.time() - start_time)"
   ]
  },
  {
   "cell_type": "code",
   "execution_count": 83,
   "id": "2583472b-1f54-45bf-84c8-1543ebff9749",
   "metadata": {},
   "outputs": [],
   "source": [
    "%%RecordEvent\n",
    "del start_time"
   ]
  },
  {
   "cell_type": "code",
   "execution_count": 84,
   "id": "ad971a34-1989-40a0-9b11-cc4efb1f3936",
   "metadata": {},
   "outputs": [
    {
     "name": "stdout",
     "output_type": "stream",
     "text": [
      "migration speed (bps) (total_bytes / (total_read_time + total_write_time * alpha)): 1011721924.3147726\n",
      "|- total bytes: 799920000\n",
      "|- total read time: 0.00011134147644042969\n",
      "|- total write time: 0.7905406951904297\n",
      "|- alpha: 1\n",
      "---------------------------\n",
      "variables to migrate:\n",
      "c 28\n",
      "d 28\n",
      "e 28\n",
      "b 28\n",
      "a 28\n",
      "---------------------------\n",
      "variables to recompute:\n",
      "[]\n",
      "---------------------------\n",
      "cells to recompute:\n",
      "[]\n",
      "Checkpoint saved to: checkpoints/time_mesurement.pickle\n"
     ]
    }
   ],
   "source": [
    "%Checkpoint checkpoints/time_mesurement.pickle"
   ]
  }
 ],
 "metadata": {
  "kernelspec": {
   "display_name": "Python 3 (ipykernel)",
   "language": "python",
   "name": "python3"
  },
  "language_info": {
   "codemirror_mode": {
    "name": "ipython",
    "version": 3
   },
   "file_extension": ".py",
   "mimetype": "text/x-python",
   "name": "python",
   "nbconvert_exporter": "python",
   "pygments_lexer": "ipython3",
   "version": "3.12.2"
  }
 },
 "nbformat": 4,
 "nbformat_minor": 5
}
