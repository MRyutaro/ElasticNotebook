{
 "cells": [
  {
   "cell_type": "code",
   "execution_count": 1,
   "metadata": {},
   "outputs": [],
   "source": [
    "import sys, os\n",
    "sys.path.insert(0, os.path.abspath(\"../..\"))"
   ]
  },
  {
   "cell_type": "code",
   "execution_count": 2,
   "metadata": {},
   "outputs": [],
   "source": [
    "%load_ext ElasticNotebook"
   ]
  },
  {
   "cell_type": "code",
   "execution_count": 3,
   "metadata": {},
   "outputs": [],
   "source": [
    "import time\n",
    "start_time = time.time()"
   ]
  },
  {
   "cell_type": "code",
   "execution_count": 4,
   "metadata": {
    "scrolled": true
   },
   "outputs": [
    {
     "name": "stdout",
     "output_type": "stream",
     "text": [
      "[[<elastic.core.graph.variable_snapshot.VariableSnapshot object at 0x1184589e0>], [<elastic.core.graph.variable_snapshot.VariableSnapshot object at 0x118458d10>], [<elastic.core.graph.variable_snapshot.VariableSnapshot object at 0x118458800>], [<elastic.core.graph.variable_snapshot.VariableSnapshot object at 0x1184589b0>], [<elastic.core.graph.variable_snapshot.VariableSnapshot object at 0x118458650>], [<elastic.core.graph.variable_snapshot.VariableSnapshot object at 0x118458bf0>], [<elastic.core.graph.variable_snapshot.VariableSnapshot object at 0x118458bc0>], [<elastic.core.graph.variable_snapshot.VariableSnapshot object at 0x118458920>], [<elastic.core.graph.variable_snapshot.VariableSnapshot object at 0x118458350>], [<elastic.core.graph.variable_snapshot.VariableSnapshot object at 0x118458a70>], [<elastic.core.graph.variable_snapshot.VariableSnapshot object at 0x118458680>], [<elastic.core.graph.variable_snapshot.VariableSnapshot object at 0x118458aa0>], [<elastic.core.graph.variable_snapshot.VariableSnapshot object at 0x118458ad0>], [<elastic.core.graph.variable_snapshot.VariableSnapshot object at 0x118458a10>], [<elastic.core.graph.variable_snapshot.VariableSnapshot object at 0x118458950>], [<elastic.core.graph.variable_snapshot.VariableSnapshot object at 0x1076d2e10>], [<elastic.core.graph.variable_snapshot.VariableSnapshot object at 0x118458980>], [<elastic.core.graph.variable_snapshot.VariableSnapshot object at 0x118458530>], [<elastic.core.graph.variable_snapshot.VariableSnapshot object at 0x118458cb0>], [<elastic.core.graph.variable_snapshot.VariableSnapshot object at 0x1184588c0>], [<elastic.core.graph.variable_snapshot.VariableSnapshot object at 0x118458c80>], [<elastic.core.graph.variable_snapshot.VariableSnapshot object at 0x118458a40>]]\n",
      "trying: ['output']\n",
      "me:  8\n",
      "trying: ['time']\n",
      "me:  0\n",
      "trying: ['rate_men']\n",
      "me:  4\n",
      "trying: ['model']\n",
      "me:  8\n",
      "trying: ['women']\n",
      "me:  3\n",
      "trying: ['X_train']\n",
      "me:  5\n",
      "trying: ['RandomForestClassifier']\n",
      "me:  0\n",
      "trying: ['X_test']\n",
      "me:  5\n",
      "trying: ['y_val']\n",
      "me:  5\n",
      "trying: ['X']\n",
      "me:  5\n",
      "trying: ['rate_women']\n",
      "me:  3\n",
      "trying: ['y']\n",
      "me:  5\n",
      "trying: ['X_val']\n",
      "me:  5\n",
      "trying: ['y_train']\n",
      "me:  5\n",
      "trying: ['features']\n",
      "me:  5\n",
      "trying: ['classification_report']\n",
      "me:  0\n",
      "trying: ['test_predictions']\n",
      "me:  8\n",
      "trying: ['pd']\n",
      "me:  0\n",
      "trying: ['val_predictions']\n",
      "me:  7\n",
      "trying: ['men']\n",
      "me:  4\n",
      "trying: ['train_predictions']\n",
      "me:  7\n",
      "trying: ['train_test_split']\n",
      "me:  0\n",
      "Declaring variable time\n",
      "Declaring variable RandomForestClassifier\n",
      "Declaring variable classification_report\n",
      "Declaring variable pd\n",
      "Declaring variable train_test_split\n",
      "Rerunning cell 2\n",
      "Rerunning cell 3\n",
      "Declaring variable women\n",
      "Declaring variable rate_women\n",
      "Declaring variable rate_men\n",
      "Declaring variable men\n",
      "Declaring variable X_train\n",
      "Declaring variable X_test\n",
      "Declaring variable y_val\n",
      "Declaring variable X\n",
      "Declaring variable y\n",
      "Declaring variable X_val\n",
      "Declaring variable y_train\n",
      "Declaring variable features\n",
      "Declaring variable val_predictions\n",
      "Declaring variable train_predictions\n",
      "Declaring variable output\n",
      "Declaring variable model\n",
      "Declaring variable test_predictions\n",
      "Checkpoint load time: 0.8309550285339355\n"
     ]
    }
   ],
   "source": [
    "%LoadCheckpoint checkpoints/large_scale_program.pickle"
   ]
  },
  {
   "cell_type": "code",
   "execution_count": 5,
   "metadata": {},
   "outputs": [
    {
     "name": "stdout",
     "output_type": "stream",
     "text": [
      "RandomForestClassifier\t X\t X_test\t X_train\t X_val\t classification_report\t features\t men\t model\t \n",
      "os\t output\t pd\t rate_men\t rate_women\t start_time\t sys\t test_data\t test_predictions\t \n",
      "time\t train_data\t train_predictions\t train_test_split\t val_predictions\t women\t y\t y_train\t y_val\t \n",
      "\n"
     ]
    }
   ],
   "source": [
    "%who"
   ]
  },
  {
   "cell_type": "code",
   "execution_count": 6,
   "metadata": {},
   "outputs": [
    {
     "name": "stdout",
     "output_type": "stream",
     "text": [
      "0.8382568359375\n"
     ]
    }
   ],
   "source": [
    "print(time.time() - start_time)"
   ]
  }
 ],
 "metadata": {
  "interpreter": {
   "hash": "73e29f827a180d655af59b8e84c2509fd207c6d30a6436933ca2d326b6144ecd"
  },
  "kernelspec": {
   "display_name": "Python 3 (ipykernel)",
   "language": "python",
   "name": "python3"
  },
  "language_info": {
   "codemirror_mode": {
    "name": "ipython",
    "version": 3
   },
   "file_extension": ".py",
   "mimetype": "text/x-python",
   "name": "python",
   "nbconvert_exporter": "python",
   "pygments_lexer": "ipython3",
   "version": "3.12.2"
  }
 },
 "nbformat": 4,
 "nbformat_minor": 4
}
