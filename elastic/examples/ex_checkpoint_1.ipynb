{
 "cells": [
  {
   "cell_type": "code",
   "execution_count": 1,
   "id": "9d372b7d-a7eb-4ad2-a31e-4ad57ba22b46",
   "metadata": {},
   "outputs": [],
   "source": [
    "import sys, os\n",
    "sys.path.insert(0, os.path.abspath(\"../..\"))\n",
    "%load_ext ElasticNotebook"
   ]
  },
  {
   "cell_type": "code",
   "execution_count": 2,
   "id": "7b055bf3-c04b-44ad-83bc-0fccd190a2be",
   "metadata": {},
   "outputs": [
    {
     "name": "stdout",
     "output_type": "stream",
     "text": [
      "self.fingerprint_dict={}\n",
      "get_ipython()=<ipykernel.zmqshell.ZMQInteractiveShell object at 0x7f5cb1d0bfa0>\n",
      "pre_execution={'__package__', 'os', '__session__', '_i', '_iii', '___', '__', 'sys', '__builtins__', '__builtin__', '_i2', 'exit', '_dh', 'get_ipython', 'In', '__loader__', '_i1', '__name__', '_', 'quit', 'open', '_ii', 'Out', '__spec__', '_ih', '__doc__', '_oh'}\n",
      "post_execution={'__package__', 'os', '__session__', '_i', '_iii', '___', '__', 'sys', '__builtins__', 'a', '__builtin__', '_i2', 'exit', '_dh', 'get_ipython', 'In', '__loader__', '_i1', '__name__', '_', 'quit', 'open', '_ii', 'Out', '__spec__', '_ih', '__doc__', '_oh'}\n",
      "created_variables={'a'}\n",
      "deleted_variables=set()\n",
      "self.fingerprint_dict={}\n",
      "self.shell.user_ns={'__name__': '__main__', '__doc__': 'Automatically created module for IPython interactive environment', '__package__': None, '__loader__': None, '__spec__': None, '__builtin__': <module 'builtins' (built-in)>, '__builtins__': <module 'builtins' (built-in)>, '_ih': ['', 'import sys, os\\nsys.path.insert(0, os.path.abspath(\"../..\"))\\nget_ipython().run_line_magic(\\'load_ext\\', \\'ElasticNotebook\\')', \"get_ipython().run_cell_magic('RecordEvent', '', 'a = 0\\\\n')\"], '_oh': {}, '_dh': [PosixPath('/workspaces/ElasticNotebook/elastic/examples')], 'In': ['', 'import sys, os\\nsys.path.insert(0, os.path.abspath(\"../..\"))\\nget_ipython().run_line_magic(\\'load_ext\\', \\'ElasticNotebook\\')', \"get_ipython().run_cell_magic('RecordEvent', '', 'a = 0\\\\n')\"], 'Out': {}, 'get_ipython': <bound method InteractiveShell.get_ipython of <ipykernel.zmqshell.ZMQInteractiveShell object at 0x7f5cb1d0bfa0>>, 'exit': <IPython.core.autocall.ZMQExitAutocall object at 0x7f5cb1d54c70>, 'quit': <IPython.core.autocall.ZMQExitAutocall object at 0x7f5cb1d54c70>, 'open': <function open at 0x7f5cc35ca950>, '_': '', '__': '', '___': '', '__session__': '/workspaces/ElasticNotebook/elastic/examples/ex_checkpoint_1.ipynb', '_i': 'import sys, os\\nsys.path.insert(0, os.path.abspath(\"../..\"))\\n%load_ext ElasticNotebook', '_ii': '', '_iii': '', '_i1': 'import sys, os\\nsys.path.insert(0, os.path.abspath(\"../..\"))\\n%load_ext ElasticNotebook', 'sys': <module 'sys' (built-in)>, 'os': <module 'os' from '/usr/lib/python3.10/os.py'>, '_i2': '%%RecordEvent\\na = 0', 'a': 0}\n",
      "self.profile_dict={'idgraph': 0, 'representation': 0}\n",
      "input_variables_id_graph_union=set()\n",
      "self.dependency_graph=<elastic.core.graph.graph.DependencyGraph object at 0x7f5cb1d96230>\n",
      "self.dependency_graph.variable_snapshots=defaultdict(<class 'list'>, {'a': [<elastic.core.graph.variable_snapshot.VariableSnapshot object at 0x7f5cb1d97d30>]})\n"
     ]
    }
   ],
   "source": [
    "%%RecordEvent\n",
    "a = 0"
   ]
  },
  {
   "cell_type": "code",
   "execution_count": 3,
   "id": "386289a6-956b-46fe-95ca-a3deb7d9f780",
   "metadata": {},
   "outputs": [
    {
     "name": "stdout",
     "output_type": "stream",
     "text": [
      "migration speed (bps) (total_bytes / (total_read_time + total_write_time * alpha)): 102998962.0211266\n",
      "|- total bytes: 799920000\n",
      "|- total read time: 0.008695840835571289\n",
      "|- total write time: 7.757596015930176\n",
      "|- alpha: 1\n",
      "---------------------------\n",
      "all variables:\n",
      "name: a\n",
      "---------------------------\n",
      "variables to migrate:\n",
      "name: a, size: 24\n",
      "---------------------------\n",
      "variables to recompute:\n",
      "[]\n",
      "---------------------------\n",
      "cells to recompute:\n",
      "[]\n",
      "Checkpoint saved to: checkpoints/ex_checkpoint_1.pickle\n"
     ]
    }
   ],
   "source": [
    "%Checkpoint checkpoints/ex_checkpoint_1.pickle"
   ]
  }
 ],
 "metadata": {
  "kernelspec": {
   "display_name": "Python 3 (ipykernel)",
   "language": "python",
   "name": "python3"
  },
  "language_info": {
   "codemirror_mode": {
    "name": "ipython",
    "version": 3
   },
   "file_extension": ".py",
   "mimetype": "text/x-python",
   "name": "python",
   "nbconvert_exporter": "python",
   "pygments_lexer": "ipython3",
   "version": "3.10.12"
  }
 },
 "nbformat": 4,
 "nbformat_minor": 5
}
