{
 "cells": [
  {
   "cell_type": "code",
   "execution_count": 1,
   "id": "e0dee20d-bf45-4e5a-b558-77992b6825cc",
   "metadata": {},
   "outputs": [],
   "source": [
    "import sys, os\n",
    "sys.path.insert(0, os.path.abspath(\"../..\"))\n",
    "%load_ext ElasticNotebook"
   ]
  },
  {
   "cell_type": "code",
   "execution_count": 2,
   "id": "5aa19ca9-127d-4e84-86b8-007abbc09e2f",
   "metadata": {},
   "outputs": [
    {
     "name": "stdout",
     "output_type": "stream",
     "text": [
      "1\n",
      "4391573664\n"
     ]
    }
   ],
   "source": [
    "%%RecordEvent\n",
    "a = 1\n",
    "print(a)\n",
    "print(id(a))"
   ]
  },
  {
   "cell_type": "code",
   "execution_count": 3,
   "id": "93e2647d-177f-490f-94ca-de6cb1fd9a7e",
   "metadata": {},
   "outputs": [
    {
     "name": "stdout",
     "output_type": "stream",
     "text": [
      "migration speed (bps) (total_bytes / (total_read_time + total_write_time * alpha)): 1276865221.659354\n",
      "|- total bytes: 799920000\n",
      "|- total read time: 6.794929504394531e-05\n",
      "|- total write time: 0.62640380859375\n",
      "|- alpha: 1\n",
      "---------------------------\n",
      "all variables:\n",
      "name: a\n",
      "---------------------------\n",
      "variables to migrate:\n",
      "name: a, size: 28\n",
      "---------------------------\n",
      "variables to recompute:\n",
      "[]\n",
      "---------------------------\n",
      "cells to recompute:\n",
      "[]\n",
      "Checkpoint saved to: checkpoints/time_mesurement.pickle\n"
     ]
    }
   ],
   "source": [
    "%Checkpoint checkpoints/time_mesurement.pickle"
   ]
  },
  {
   "cell_type": "code",
   "execution_count": 4,
   "id": "6ac008e5-4b16-42ff-b015-3046a3d4d6aa",
   "metadata": {},
   "outputs": [
    {
     "name": "stdout",
     "output_type": "stream",
     "text": [
      "2\n",
      "4391573696\n"
     ]
    }
   ],
   "source": [
    "a = 2\n",
    "print(a)\n",
    "print(id(a))"
   ]
  },
  {
   "cell_type": "code",
   "execution_count": 5,
   "id": "035dcaf4-4c7b-4c25-b143-163f7934dc7e",
   "metadata": {},
   "outputs": [
    {
     "name": "stdout",
     "output_type": "stream",
     "text": [
      "[[<elastic.core.graph.variable_snapshot.VariableSnapshot object at 0x113c42120>]]\n",
      "trying: ['a']\n",
      "me:  0\n",
      "Declaring variable a\n",
      "Checkpoint load time: 0.0016889572143554688\n"
     ]
    }
   ],
   "source": [
    "%LoadCheckpoint checkpoints/time_mesurement.pickle"
   ]
  },
  {
   "cell_type": "code",
   "execution_count": 6,
   "id": "538cad4d-a796-4e99-b3b7-a95dcb3c8419",
   "metadata": {},
   "outputs": [
    {
     "name": "stdout",
     "output_type": "stream",
     "text": [
      "a\t os\t sys\t \n"
     ]
    }
   ],
   "source": [
    "%who"
   ]
  },
  {
   "cell_type": "code",
   "execution_count": 7,
   "id": "5f932540-5548-4e2f-af96-b9f80de4dac0",
   "metadata": {},
   "outputs": [
    {
     "name": "stdout",
     "output_type": "stream",
     "text": [
      "1\n",
      "4391573664\n"
     ]
    }
   ],
   "source": [
    "print(a)\n",
    "print(id(a))"
   ]
  }
 ],
 "metadata": {
  "kernelspec": {
   "display_name": "Python 3 (ipykernel)",
   "language": "python",
   "name": "python3"
  },
  "language_info": {
   "codemirror_mode": {
    "name": "ipython",
    "version": 3
   },
   "file_extension": ".py",
   "mimetype": "text/x-python",
   "name": "python",
   "nbconvert_exporter": "python",
   "pygments_lexer": "ipython3",
   "version": "3.12.2"
  }
 },
 "nbformat": 4,
 "nbformat_minor": 5
}
