{
 "cells": [
  {
   "cell_type": "code",
   "execution_count": 1,
   "id": "f5cfb019-ffb3-4c94-87b5-7225e29fff6a",
   "metadata": {},
   "outputs": [],
   "source": [
    "import sys, os\n",
    "sys.path.insert(0, os.path.abspath(\"../..\"))\n",
    "%load_ext ElasticNotebook"
   ]
  },
  {
   "cell_type": "code",
   "execution_count": 2,
   "id": "4ff7e209-fd28-49fb-ae26-ff24f7fa7dbb",
   "metadata": {},
   "outputs": [],
   "source": [
    "%%RecordEvent\n",
    "a = 1\n",
    "b = 2\n",
    "c = 3"
   ]
  },
  {
   "cell_type": "code",
   "execution_count": 3,
   "id": "98c586e1-b3df-4b39-86b8-460c7c793d7b",
   "metadata": {},
   "outputs": [
    {
     "name": "stdout",
     "output_type": "stream",
     "text": [
      "migration speed (bps) (total_bytes / (total_read_time + total_write_time * alpha)): 1052276767.0954988\n",
      "|- total bytes: 799920000\n",
      "|- total read time: 0.00011515617370605469\n",
      "|- total write time: 0.7600650787353516\n",
      "|- alpha: 1\n",
      "---------------------------\n",
      "all variables:\n",
      "defaultdict(<class 'list'>, {'a': [<elastic.core.graph.variable_snapshot.VariableSnapshot object at 0x103869a90>], 'b': [<elastic.core.graph.variable_snapshot.VariableSnapshot object at 0x11128eba0>], 'c': [<elastic.core.graph.variable_snapshot.VariableSnapshot object at 0x11128da30>]})\n",
      "name: a\n",
      "name: b\n",
      "name: c\n",
      "---------------------------\n",
      "variables to migrate:\n",
      "name: a, size: 28\n",
      "name: b, size: 28\n",
      "name: c, size: 28\n",
      "---------------------------\n",
      "variables to recompute:\n",
      "[]\n",
      "---------------------------\n",
      "cells to recompute:\n",
      "[]\n",
      "Checkpoint saved to: checkpoints/time_mesurement.pickle\n"
     ]
    }
   ],
   "source": [
    "%Checkpoint checkpoints/time_mesurement.pickle"
   ]
  }
 ],
 "metadata": {
  "kernelspec": {
   "display_name": "Python 3 (ipykernel)",
   "language": "python",
   "name": "python3"
  },
  "language_info": {
   "codemirror_mode": {
    "name": "ipython",
    "version": 3
   },
   "file_extension": ".py",
   "mimetype": "text/x-python",
   "name": "python",
   "nbconvert_exporter": "python",
   "pygments_lexer": "ipython3",
   "version": "3.12.2"
  }
 },
 "nbformat": 4,
 "nbformat_minor": 5
}
