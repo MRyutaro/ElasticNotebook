{
 "cells": [
  {
   "cell_type": "code",
   "execution_count": 1,
   "id": "f5cfb019-ffb3-4c94-87b5-7225e29fff6a",
   "metadata": {},
   "outputs": [],
   "source": [
    "import sys, os\n",
    "sys.path.insert(0, os.path.abspath(\"../..\"))\n",
    "%load_ext ElasticNotebook"
   ]
  },
  {
   "cell_type": "code",
   "execution_count": 2,
   "id": "4ff7e209-fd28-49fb-ae26-ff24f7fa7dbb",
   "metadata": {},
   "outputs": [],
   "source": [
    "%%RecordEvent\n",
    "a = 1\n",
    "b = 2\n",
    "c = 3"
   ]
  },
  {
   "cell_type": "code",
   "execution_count": 3,
   "id": "98c586e1-b3df-4b39-86b8-460c7c793d7b",
   "metadata": {},
   "outputs": [
    {
     "name": "stdout",
     "output_type": "stream",
     "text": [
      "migration speed (bps) (total_bytes / (total_read_time + total_write_time * alpha)): 1099604468.3083186\n",
      "|- total bytes: 799920000\n",
      "|- total read time: 6.914138793945312e-05\n",
      "|- total write time: 0.7273924350738525\n",
      "|- alpha: 1\n",
      "---------------------------\n",
      "all variables:\n",
      "name: c\n",
      "name: a\n",
      "name: b\n",
      "---------------------------\n",
      "variables to migrate:\n",
      "name: a, size: 28\n",
      "name: c, size: 28\n",
      "name: b, size: 28\n",
      "---------------------------\n",
      "variables to recompute:\n",
      "[]\n",
      "---------------------------\n",
      "cells to recompute:\n",
      "[]\n",
      "Checkpoint saved to: checkpoints/time_mesurement.pickle\n"
     ]
    }
   ],
   "source": [
    "%Checkpoint checkpoints/time_mesurement.pickle"
   ]
  }
 ],
 "metadata": {
  "kernelspec": {
   "display_name": "Python 3 (ipykernel)",
   "language": "python",
   "name": "python3"
  },
  "language_info": {
   "codemirror_mode": {
    "name": "ipython",
    "version": 3
   },
   "file_extension": ".py",
   "mimetype": "text/x-python",
   "name": "python",
   "nbconvert_exporter": "python",
   "pygments_lexer": "ipython3",
   "version": "3.12.2"
  }
 },
 "nbformat": 4,
 "nbformat_minor": 5
}
