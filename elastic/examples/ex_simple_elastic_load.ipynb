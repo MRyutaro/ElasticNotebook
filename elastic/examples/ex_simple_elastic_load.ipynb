{
 "cells": [
  {
   "cell_type": "code",
   "execution_count": 3,
   "metadata": {},
   "outputs": [],
   "source": [
    "import time\n",
    "start_time = time.time()"
   ]
  },
  {
   "cell_type": "code",
   "execution_count": 1,
   "metadata": {},
   "outputs": [],
   "source": [
    "import sys, os\n",
    "sys.path.insert(0, os.path.abspath(\"../..\"))"
   ]
  },
  {
   "cell_type": "code",
   "execution_count": 2,
   "metadata": {},
   "outputs": [],
   "source": [
    "%load_ext ElasticNotebook"
   ]
  },
  {
   "cell_type": "code",
   "execution_count": 4,
   "metadata": {},
   "outputs": [
    {
     "name": "stdout",
     "output_type": "stream",
     "text": [
      "[[<elastic.core.graph.variable_snapshot.VariableSnapshot object at 0x108451160>], [<elastic.core.graph.variable_snapshot.VariableSnapshot object at 0x116eb4950>], [<elastic.core.graph.variable_snapshot.VariableSnapshot object at 0x116eb4ad0>], [<elastic.core.graph.variable_snapshot.VariableSnapshot object at 0x116eb4b30>], [<elastic.core.graph.variable_snapshot.VariableSnapshot object at 0x116eb4bc0>], [<elastic.core.graph.variable_snapshot.VariableSnapshot object at 0x116eb4bf0>], [<elastic.core.graph.variable_snapshot.VariableSnapshot object at 0x116eb4d40>], [<elastic.core.graph.variable_snapshot.VariableSnapshot object at 0x116eb4c20>], [<elastic.core.graph.variable_snapshot.VariableSnapshot object at 0x115fdb200>], [<elastic.core.graph.variable_snapshot.VariableSnapshot object at 0x116eb4aa0>], [<elastic.core.graph.variable_snapshot.VariableSnapshot object at 0x116eb4cb0>]]\n",
      "trying: ['iris_y_train']\n",
      "me:  2\n",
      "trying: ['iris_X']\n",
      "me:  1\n",
      "trying: ['datasets']\n",
      "me:  0\n",
      "trying: ['KNeighborsClassifier']\n",
      "me:  0\n",
      "trying: ['iris_X_train']\n",
      "me:  2\n",
      "trying: ['knn']\n",
      "me:  3\n",
      "trying: ['iris_y_test']\n",
      "me:  2\n",
      "trying: ['iris_X_test']\n",
      "me:  2\n",
      "trying: ['np']\n",
      "me:  0\n",
      "trying: ['iris_y']\n",
      "me:  1\n",
      "trying: ['indices']\n",
      "me:  3\n",
      "Declaring variable datasets\n",
      "Declaring variable KNeighborsClassifier\n",
      "Declaring variable np\n",
      "Declaring variable iris_X\n",
      "Declaring variable iris_y\n",
      "Declaring variable iris_y_train\n",
      "Declaring variable iris_X_train\n",
      "Declaring variable iris_y_test\n",
      "Declaring variable iris_X_test\n",
      "Declaring variable knn\n",
      "Declaring variable indices\n",
      "Checkpoint load time: 0.07298612594604492\n"
     ]
    }
   ],
   "source": [
    "%LoadCheckpoint checkpoints/numpy.pickle"
   ]
  },
  {
   "cell_type": "code",
   "execution_count": 5,
   "metadata": {},
   "outputs": [
    {
     "name": "stdout",
     "output_type": "stream",
     "text": [
      "KNeighborsClassifier\t datasets\t indices\t iris_X\t iris_X_test\t iris_X_train\t iris_y\t iris_y_test\t iris_y_train\t \n",
      "knn\t np\t os\t start_time\t sys\t time\t \n"
     ]
    }
   ],
   "source": [
    "%who"
   ]
  },
  {
   "cell_type": "code",
   "execution_count": 6,
   "metadata": {},
   "outputs": [
    {
     "name": "stdout",
     "output_type": "stream",
     "text": [
      "0.07893133163452148\n"
     ]
    }
   ],
   "source": [
    "print(time.time() - start_time)"
   ]
  }
 ],
 "metadata": {
  "interpreter": {
   "hash": "73e29f827a180d655af59b8e84c2509fd207c6d30a6436933ca2d326b6144ecd"
  },
  "kernelspec": {
   "display_name": "Python 3 (ipykernel)",
   "language": "python",
   "name": "python3"
  },
  "language_info": {
   "codemirror_mode": {
    "name": "ipython",
    "version": 3
   },
   "file_extension": ".py",
   "mimetype": "text/x-python",
   "name": "python",
   "nbconvert_exporter": "python",
   "pygments_lexer": "ipython3",
   "version": "3.12.2"
  }
 },
 "nbformat": 4,
 "nbformat_minor": 4
}
