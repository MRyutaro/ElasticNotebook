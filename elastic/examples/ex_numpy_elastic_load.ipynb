{
 "cells": [
  {
   "cell_type": "code",
   "execution_count": 1,
   "metadata": {},
   "outputs": [],
   "source": [
    "import time\n",
    "start_time = time.time()"
   ]
  },
  {
   "cell_type": "code",
   "execution_count": 2,
   "metadata": {},
   "outputs": [],
   "source": [
    "import sys, os\n",
    "sys.path.insert(0, os.path.abspath(\"../..\"))"
   ]
  },
  {
   "cell_type": "code",
   "execution_count": 3,
   "metadata": {},
   "outputs": [],
   "source": [
    "%load_ext ElasticNotebook"
   ]
  },
  {
   "cell_type": "code",
   "execution_count": 4,
   "metadata": {},
   "outputs": [
    {
     "name": "stdout",
     "output_type": "stream",
     "text": [
      "[[<elastic.core.graph.variable_snapshot.VariableSnapshot object at 0x103ca9ac0>, <elastic.core.graph.variable_snapshot.VariableSnapshot object at 0x103ca9b20>, <elastic.core.graph.variable_snapshot.VariableSnapshot object at 0x10f913410>], [<elastic.core.graph.variable_snapshot.VariableSnapshot object at 0x103ca9ac0>, <elastic.core.graph.variable_snapshot.VariableSnapshot object at 0x103ca9b20>, <elastic.core.graph.variable_snapshot.VariableSnapshot object at 0x10f913410>], [<elastic.core.graph.variable_snapshot.VariableSnapshot object at 0x103caa630>, <elastic.core.graph.variable_snapshot.VariableSnapshot object at 0x103ca9a30>], [<elastic.core.graph.variable_snapshot.VariableSnapshot object at 0x103caa630>, <elastic.core.graph.variable_snapshot.VariableSnapshot object at 0x103ca9a30>], [<elastic.core.graph.variable_snapshot.VariableSnapshot object at 0x10f8afe30>], [<elastic.core.graph.variable_snapshot.VariableSnapshot object at 0x10f8ad4f0>], [<elastic.core.graph.variable_snapshot.VariableSnapshot object at 0x10fabd220>], [<elastic.core.graph.variable_snapshot.VariableSnapshot object at 0x103ca9b20>]]\n",
      "trying: ['a', 'x', 'b']\n",
      "me:  1\n",
      "me:  1\n",
      "me:  4\n",
      "trying: ['a', 'x', 'b']\n",
      "me:  1\n",
      "me:  1\n",
      "me:  4\n",
      "trying: ['y', 'z']\n",
      "me:  1\n",
      "me:  1\n",
      "trying: ['y', 'z']\n",
      "me:  1\n",
      "me:  1\n",
      "trying: ['random']\n",
      "me:  2\n",
      "trying: ['np']\n",
      "me:  2\n",
      "trying: ['func']\n",
      "me:  4\n",
      "trying: ['x']\n",
      "me:  1\n",
      "Declaring variable a\n",
      "Declaring variable x\n",
      "Declaring variable a\n",
      "Declaring variable x\n",
      "Declaring variable y\n",
      "Declaring variable z\n",
      "Declaring variable y\n",
      "Declaring variable z\n",
      "Declaring variable x\n",
      "Declaring variable random\n",
      "Declaring variable np\n",
      "Declaring variable b\n",
      "Declaring variable b\n",
      "Declaring variable func\n",
      "Checkpoint load time: 0.0009400844573974609\n"
     ]
    }
   ],
   "source": [
    "%LoadCheckpoint checkpoints/simple.pickle"
   ]
  },
  {
   "cell_type": "code",
   "execution_count": 5,
   "metadata": {},
   "outputs": [
    {
     "name": "stdout",
     "output_type": "stream",
     "text": [
      "a\t b\t func\t np\t os\t random\t start_time\t sys\t time\t \n",
      "x\t y\t z\t \n"
     ]
    }
   ],
   "source": [
    "%who"
   ]
  },
  {
   "cell_type": "code",
   "execution_count": 6,
   "metadata": {},
   "outputs": [
    {
     "name": "stdout",
     "output_type": "stream",
     "text": [
      "1.6677350997924805\n"
     ]
    }
   ],
   "source": [
    "print(time.time() - start_time)"
   ]
  }
 ],
 "metadata": {
  "interpreter": {
   "hash": "73e29f827a180d655af59b8e84c2509fd207c6d30a6436933ca2d326b6144ecd"
  },
  "kernelspec": {
   "display_name": "Python 3 (ipykernel)",
   "language": "python",
   "name": "python3"
  },
  "language_info": {
   "codemirror_mode": {
    "name": "ipython",
    "version": 3
   },
   "file_extension": ".py",
   "mimetype": "text/x-python",
   "name": "python",
   "nbconvert_exporter": "python",
   "pygments_lexer": "ipython3",
   "version": "3.12.2"
  }
 },
 "nbformat": 4,
 "nbformat_minor": 4
}
