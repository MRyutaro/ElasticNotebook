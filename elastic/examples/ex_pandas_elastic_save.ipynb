{
 "cells": [
  {
   "cell_type": "code",
   "execution_count": 2,
   "metadata": {
    "pycharm": {
     "name": "#%%\n"
    }
   },
   "outputs": [],
   "source": [
    "# Get the data here: https://data.world/dataquest/mlb-game-logs\n",
    "import sys, os\n",
    "sys.path.insert(0, os.path.abspath(\"../..\"))\n",
    "%load_ext ElasticNotebook"
   ]
  },
  {
   "cell_type": "code",
   "execution_count": 2,
   "metadata": {
    "collapsed": false,
    "jupyter": {
     "outputs_hidden": false
    },
    "pycharm": {
     "is_executing": true,
     "name": "#%%\n"
    }
   },
   "outputs": [
    {
     "name": "stdout",
     "output_type": "stream",
     "text": [
      "4593388960\n"
     ]
    }
   ],
   "source": [
    "%%RecordEvent\n",
    "import pandas as pd\n",
    "gl = pd.read_csv('data/game_logs.csv')\n",
    "gl.head()\n",
    "print(id(gl))"
   ]
  },
  {
   "cell_type": "code",
   "execution_count": 3,
   "metadata": {
    "pycharm": {
     "name": "#%%\n"
    }
   },
   "outputs": [
    {
     "name": "stdout",
     "output_type": "stream",
     "text": [
      "<class 'pandas.core.frame.DataFrame'>\n",
      "RangeIndex: 2430 entries, 0 to 2429\n",
      "Columns: 161 entries, date to acquisition_info\n",
      "dtypes: float64(5), int64(82), object(74)\n",
      "memory usage: 11.5 MB\n",
      "4587757952\n"
     ]
    }
   ],
   "source": [
    "%%RecordEvent\n",
    "gl = gl.fillna(0)\n",
    "gl.info(memory_usage='deep')\n",
    "print(id(gl))"
   ]
  },
  {
   "cell_type": "code",
   "execution_count": 4,
   "metadata": {
    "collapsed": false,
    "jupyter": {
     "outputs_hidden": false
    },
    "pycharm": {
     "name": "#%%\n"
    }
   },
   "outputs": [
    {
     "data": {
      "text/html": [
       "<div>\n",
       "<style scoped>\n",
       "    .dataframe tbody tr th:only-of-type {\n",
       "        vertical-align: middle;\n",
       "    }\n",
       "\n",
       "    .dataframe tbody tr th {\n",
       "        vertical-align: top;\n",
       "    }\n",
       "\n",
       "    .dataframe thead th {\n",
       "        text-align: right;\n",
       "    }\n",
       "</style>\n",
       "<table border=\"1\" class=\"dataframe\">\n",
       "  <thead>\n",
       "    <tr style=\"text-align: right;\">\n",
       "      <th></th>\n",
       "      <th>date</th>\n",
       "      <th>number_of_game</th>\n",
       "      <th>day_of_week</th>\n",
       "      <th>v_name</th>\n",
       "      <th>v_league</th>\n",
       "      <th>v_game_number</th>\n",
       "      <th>h_name</th>\n",
       "      <th>h_league</th>\n",
       "      <th>h_game_number</th>\n",
       "      <th>v_score</th>\n",
       "      <th>...</th>\n",
       "      <th>h_player_7_name</th>\n",
       "      <th>h_player_7_def_pos</th>\n",
       "      <th>h_player_8_id</th>\n",
       "      <th>h_player_8_name</th>\n",
       "      <th>h_player_8_def_pos</th>\n",
       "      <th>h_player_9_id</th>\n",
       "      <th>h_player_9_name</th>\n",
       "      <th>h_player_9_def_pos</th>\n",
       "      <th>additional_info</th>\n",
       "      <th>acquisition_info</th>\n",
       "    </tr>\n",
       "  </thead>\n",
       "  <tbody>\n",
       "    <tr>\n",
       "      <th>0</th>\n",
       "      <td>20230330</td>\n",
       "      <td>0</td>\n",
       "      <td>Thu</td>\n",
       "      <td>MIL</td>\n",
       "      <td>NL</td>\n",
       "      <td>1</td>\n",
       "      <td>CHN</td>\n",
       "      <td>NL</td>\n",
       "      <td>1</td>\n",
       "      <td>0</td>\n",
       "      <td>...</td>\n",
       "      <td>Eric Hosmer</td>\n",
       "      <td>3</td>\n",
       "      <td>wisdp001</td>\n",
       "      <td>Patrick Wisdom</td>\n",
       "      <td>5</td>\n",
       "      <td>mastm001</td>\n",
       "      <td>Miles Mastrobuoni</td>\n",
       "      <td>9</td>\n",
       "      <td>0</td>\n",
       "      <td>Y</td>\n",
       "    </tr>\n",
       "    <tr>\n",
       "      <th>1</th>\n",
       "      <td>20230330</td>\n",
       "      <td>0</td>\n",
       "      <td>Thu</td>\n",
       "      <td>PIT</td>\n",
       "      <td>NL</td>\n",
       "      <td>1</td>\n",
       "      <td>CIN</td>\n",
       "      <td>NL</td>\n",
       "      <td>1</td>\n",
       "      <td>5</td>\n",
       "      <td>...</td>\n",
       "      <td>Spencer Steer</td>\n",
       "      <td>5</td>\n",
       "      <td>bensw001</td>\n",
       "      <td>Will Benson</td>\n",
       "      <td>7</td>\n",
       "      <td>garcj007</td>\n",
       "      <td>Jose Garcia</td>\n",
       "      <td>6</td>\n",
       "      <td>0</td>\n",
       "      <td>Y</td>\n",
       "    </tr>\n",
       "    <tr>\n",
       "      <th>2</th>\n",
       "      <td>20230330</td>\n",
       "      <td>0</td>\n",
       "      <td>Thu</td>\n",
       "      <td>ARI</td>\n",
       "      <td>NL</td>\n",
       "      <td>1</td>\n",
       "      <td>LAN</td>\n",
       "      <td>NL</td>\n",
       "      <td>1</td>\n",
       "      <td>2</td>\n",
       "      <td>...</td>\n",
       "      <td>Miguel Vargas</td>\n",
       "      <td>4</td>\n",
       "      <td>outmj002</td>\n",
       "      <td>James Outman</td>\n",
       "      <td>8</td>\n",
       "      <td>rojam002</td>\n",
       "      <td>Miguel Rojas</td>\n",
       "      <td>6</td>\n",
       "      <td>0</td>\n",
       "      <td>Y</td>\n",
       "    </tr>\n",
       "    <tr>\n",
       "      <th>3</th>\n",
       "      <td>20230330</td>\n",
       "      <td>0</td>\n",
       "      <td>Thu</td>\n",
       "      <td>NYN</td>\n",
       "      <td>NL</td>\n",
       "      <td>1</td>\n",
       "      <td>MIA</td>\n",
       "      <td>NL</td>\n",
       "      <td>1</td>\n",
       "      <td>5</td>\n",
       "      <td>...</td>\n",
       "      <td>Bryan De La Cruz</td>\n",
       "      <td>7</td>\n",
       "      <td>stalj001</td>\n",
       "      <td>Jacob Stallings</td>\n",
       "      <td>2</td>\n",
       "      <td>wendj002</td>\n",
       "      <td>Joey Wendle</td>\n",
       "      <td>6</td>\n",
       "      <td>0</td>\n",
       "      <td>Y</td>\n",
       "    </tr>\n",
       "    <tr>\n",
       "      <th>4</th>\n",
       "      <td>20230330</td>\n",
       "      <td>0</td>\n",
       "      <td>Thu</td>\n",
       "      <td>COL</td>\n",
       "      <td>NL</td>\n",
       "      <td>1</td>\n",
       "      <td>SDN</td>\n",
       "      <td>NL</td>\n",
       "      <td>1</td>\n",
       "      <td>7</td>\n",
       "      <td>...</td>\n",
       "      <td>Austin Nola</td>\n",
       "      <td>2</td>\n",
       "      <td>kim-h002</td>\n",
       "      <td>Ha-Seong Kim</td>\n",
       "      <td>4</td>\n",
       "      <td>dahld001</td>\n",
       "      <td>David Dahl</td>\n",
       "      <td>9</td>\n",
       "      <td>0</td>\n",
       "      <td>Y</td>\n",
       "    </tr>\n",
       "  </tbody>\n",
       "</table>\n",
       "<p>5 rows × 161 columns</p>\n",
       "</div>"
      ],
      "text/plain": [
       "       date  number_of_game day_of_week v_name v_league  v_game_number h_name  \\\n",
       "0  20230330               0         Thu    MIL       NL              1    CHN   \n",
       "1  20230330               0         Thu    PIT       NL              1    CIN   \n",
       "2  20230330               0         Thu    ARI       NL              1    LAN   \n",
       "3  20230330               0         Thu    NYN       NL              1    MIA   \n",
       "4  20230330               0         Thu    COL       NL              1    SDN   \n",
       "\n",
       "  h_league  h_game_number  v_score  ...   h_player_7_name  h_player_7_def_pos  \\\n",
       "0       NL              1        0  ...       Eric Hosmer                   3   \n",
       "1       NL              1        5  ...     Spencer Steer                   5   \n",
       "2       NL              1        2  ...     Miguel Vargas                   4   \n",
       "3       NL              1        5  ...  Bryan De La Cruz                   7   \n",
       "4       NL              1        7  ...       Austin Nola                   2   \n",
       "\n",
       "  h_player_8_id  h_player_8_name  h_player_8_def_pos  h_player_9_id  \\\n",
       "0      wisdp001   Patrick Wisdom                   5       mastm001   \n",
       "1      bensw001      Will Benson                   7       garcj007   \n",
       "2      outmj002     James Outman                   8       rojam002   \n",
       "3      stalj001  Jacob Stallings                   2       wendj002   \n",
       "4      kim-h002     Ha-Seong Kim                   4       dahld001   \n",
       "\n",
       "     h_player_9_name  h_player_9_def_pos  additional_info acquisition_info  \n",
       "0  Miles Mastrobuoni                   9                0                Y  \n",
       "1        Jose Garcia                   6                0                Y  \n",
       "2       Miguel Rojas                   6                0                Y  \n",
       "3        Joey Wendle                   6                0                Y  \n",
       "4         David Dahl                   9                0                Y  \n",
       "\n",
       "[5 rows x 161 columns]"
      ]
     },
     "execution_count": 4,
     "metadata": {},
     "output_type": "execute_result"
    }
   ],
   "source": [
    "%%RecordEvent\n",
    "gl.head()"
   ]
  },
  {
   "cell_type": "code",
   "execution_count": 5,
   "metadata": {
    "collapsed": false,
    "jupyter": {
     "outputs_hidden": false
    },
    "pycharm": {
     "name": "#%%\n"
    }
   },
   "outputs": [
    {
     "name": "stdout",
     "output_type": "stream",
     "text": [
      "Average memory usage for float columns: 0.02 MB\n",
      "Average memory usage for int columns: 0.02 MB\n",
      "Average memory usage for object columns: 0.13 MB\n"
     ]
    }
   ],
   "source": [
    "%%RecordEvent\n",
    "for dtype in ['float','int','object']:\n",
    "    selected_dtype = gl.select_dtypes(include=[dtype])\n",
    "    mean_usage_b = selected_dtype.memory_usage(deep=True).mean()\n",
    "    mean_usage_mb = mean_usage_b / 1024 ** 2\n",
    "    print(\"Average memory usage for {} columns: {:03.2f} MB\".format(dtype,mean_usage_mb))"
   ]
  },
  {
   "cell_type": "code",
   "execution_count": 6,
   "metadata": {
    "pycharm": {
     "name": "#%%\n"
    }
   },
   "outputs": [],
   "source": [
    "%%RecordEvent\n",
    "def mem_usage(pandas_obj):\n",
    "    if isinstance(pandas_obj,pd.DataFrame):\n",
    "        usage_b = pandas_obj.memory_usage(deep=True).sum()\n",
    "    else: # we assume if not a df it's a series\n",
    "        usage_b = pandas_obj.memory_usage(deep=True)\n",
    "    usage_mb = usage_b / 1024 ** 2 # convert bytes to megabytes\n",
    "    return \"{:03.2f} MB\".format(usage_mb)"
   ]
  },
  {
   "cell_type": "code",
   "execution_count": 7,
   "metadata": {
    "pycharm": {
     "name": "#%%\n"
    }
   },
   "outputs": [
    {
     "name": "stdout",
     "output_type": "stream",
     "text": [
      "1.52 MB\n",
      "0.20 MB\n",
      "4595360032 4587641248 4595694672\n"
     ]
    }
   ],
   "source": [
    "%%RecordEvent\n",
    "gl_int = gl.select_dtypes(include=['int'])\n",
    "converted_int = gl_int.apply(pd.to_numeric,downcast='unsigned')\n",
    "print(mem_usage(gl_int))\n",
    "print(mem_usage(converted_int))\n",
    "compare_ints = pd.concat([gl_int.dtypes,converted_int.dtypes],axis=1)\n",
    "compare_ints.columns = ['before','after']\n",
    "compare_ints.apply(pd.Series.value_counts)\n",
    "print(id(gl_int), id(converted_int), id(compare_ints))"
   ]
  },
  {
   "cell_type": "code",
   "execution_count": 8,
   "metadata": {
    "pycharm": {
     "name": "#%%\n"
    }
   },
   "outputs": [
    {
     "name": "stdout",
     "output_type": "stream",
     "text": [
      "0.09 MB\n",
      "0.05 MB\n",
      "4595795728 4595796352 4595798656\n"
     ]
    }
   ],
   "source": [
    "%%RecordEvent\n",
    "gl_float = gl.select_dtypes(include=['float'])\n",
    "converted_float = gl_float.apply(pd.to_numeric,downcast='float')\n",
    "print(mem_usage(gl_float))\n",
    "print(mem_usage(converted_float))\n",
    "compare_floats = pd.concat([gl_float.dtypes,converted_float.dtypes],axis=1)\n",
    "compare_floats.columns = ['before','after']\n",
    "compare_floats.apply(pd.Series.value_counts)\n",
    "print(id(gl_float), id(converted_float), id(compare_floats))"
   ]
  },
  {
   "cell_type": "code",
   "execution_count": 9,
   "metadata": {
    "pycharm": {
     "name": "#%%\n"
    }
   },
   "outputs": [
    {
     "name": "stdout",
     "output_type": "stream",
     "text": [
      "11.47 MB\n",
      "10.10 MB\n",
      "4594952592\n"
     ]
    }
   ],
   "source": [
    "%%RecordEvent\n",
    "optimized_gl = gl.copy()\n",
    "optimized_gl[converted_int.columns] = converted_int\n",
    "optimized_gl[converted_float.columns] = converted_float\n",
    "\n",
    "print(mem_usage(gl))\n",
    "print(mem_usage(optimized_gl))\n",
    "print(id(optimized_gl))"
   ]
  },
  {
   "cell_type": "code",
   "execution_count": 10,
   "metadata": {
    "pycharm": {
     "name": "#%%\n"
    }
   },
   "outputs": [
    {
     "name": "stdout",
     "output_type": "stream",
     "text": [
      "4526067776\n"
     ]
    },
    {
     "data": {
      "text/html": [
       "<div>\n",
       "<style scoped>\n",
       "    .dataframe tbody tr th:only-of-type {\n",
       "        vertical-align: middle;\n",
       "    }\n",
       "\n",
       "    .dataframe tbody tr th {\n",
       "        vertical-align: top;\n",
       "    }\n",
       "\n",
       "    .dataframe thead th {\n",
       "        text-align: right;\n",
       "    }\n",
       "</style>\n",
       "<table border=\"1\" class=\"dataframe\">\n",
       "  <thead>\n",
       "    <tr style=\"text-align: right;\">\n",
       "      <th></th>\n",
       "      <th>day_of_week</th>\n",
       "      <th>v_name</th>\n",
       "      <th>v_league</th>\n",
       "      <th>h_name</th>\n",
       "      <th>h_league</th>\n",
       "      <th>day_night</th>\n",
       "      <th>completion</th>\n",
       "      <th>park_id</th>\n",
       "      <th>v_line_score</th>\n",
       "      <th>h_line_score</th>\n",
       "      <th>...</th>\n",
       "      <th>h_player_6_id</th>\n",
       "      <th>h_player_6_name</th>\n",
       "      <th>h_player_7_id</th>\n",
       "      <th>h_player_7_name</th>\n",
       "      <th>h_player_8_id</th>\n",
       "      <th>h_player_8_name</th>\n",
       "      <th>h_player_9_id</th>\n",
       "      <th>h_player_9_name</th>\n",
       "      <th>additional_info</th>\n",
       "      <th>acquisition_info</th>\n",
       "    </tr>\n",
       "  </thead>\n",
       "  <tbody>\n",
       "    <tr>\n",
       "      <th>count</th>\n",
       "      <td>2430</td>\n",
       "      <td>2430</td>\n",
       "      <td>2430</td>\n",
       "      <td>2430</td>\n",
       "      <td>2430</td>\n",
       "      <td>2430</td>\n",
       "      <td>2430</td>\n",
       "      <td>2430</td>\n",
       "      <td>2430</td>\n",
       "      <td>2430</td>\n",
       "      <td>...</td>\n",
       "      <td>2430</td>\n",
       "      <td>2430</td>\n",
       "      <td>2430</td>\n",
       "      <td>2430</td>\n",
       "      <td>2430</td>\n",
       "      <td>2430</td>\n",
       "      <td>2430</td>\n",
       "      <td>2430</td>\n",
       "      <td>2430</td>\n",
       "      <td>2430</td>\n",
       "    </tr>\n",
       "    <tr>\n",
       "      <th>unique</th>\n",
       "      <td>7</td>\n",
       "      <td>30</td>\n",
       "      <td>2</td>\n",
       "      <td>30</td>\n",
       "      <td>2</td>\n",
       "      <td>2</td>\n",
       "      <td>7</td>\n",
       "      <td>33</td>\n",
       "      <td>1514</td>\n",
       "      <td>1624</td>\n",
       "      <td>...</td>\n",
       "      <td>380</td>\n",
       "      <td>379</td>\n",
       "      <td>418</td>\n",
       "      <td>418</td>\n",
       "      <td>395</td>\n",
       "      <td>394</td>\n",
       "      <td>331</td>\n",
       "      <td>331</td>\n",
       "      <td>13</td>\n",
       "      <td>1</td>\n",
       "    </tr>\n",
       "    <tr>\n",
       "      <th>top</th>\n",
       "      <td>Sat</td>\n",
       "      <td>MIL</td>\n",
       "      <td>NL</td>\n",
       "      <td>CHN</td>\n",
       "      <td>NL</td>\n",
       "      <td>N</td>\n",
       "      <td>0</td>\n",
       "      <td>CHI11</td>\n",
       "      <td>000000000</td>\n",
       "      <td>000000000</td>\n",
       "      <td>...</td>\n",
       "      <td>heimj001</td>\n",
       "      <td>Jonah Heim</td>\n",
       "      <td>brenw002</td>\n",
       "      <td>Will Brennan</td>\n",
       "      <td>arcio002</td>\n",
       "      <td>Orlando Arcia</td>\n",
       "      <td>maldm001</td>\n",
       "      <td>Martin Maldonado</td>\n",
       "      <td>0</td>\n",
       "      <td>Y</td>\n",
       "    </tr>\n",
       "    <tr>\n",
       "      <th>freq</th>\n",
       "      <td>412</td>\n",
       "      <td>81</td>\n",
       "      <td>1215</td>\n",
       "      <td>81</td>\n",
       "      <td>1215</td>\n",
       "      <td>1501</td>\n",
       "      <td>2424</td>\n",
       "      <td>81</td>\n",
       "      <td>169</td>\n",
       "      <td>132</td>\n",
       "      <td>...</td>\n",
       "      <td>48</td>\n",
       "      <td>48</td>\n",
       "      <td>30</td>\n",
       "      <td>30</td>\n",
       "      <td>55</td>\n",
       "      <td>55</td>\n",
       "      <td>58</td>\n",
       "      <td>58</td>\n",
       "      <td>2417</td>\n",
       "      <td>2430</td>\n",
       "    </tr>\n",
       "  </tbody>\n",
       "</table>\n",
       "<p>4 rows × 74 columns</p>\n",
       "</div>"
      ],
      "text/plain": [
       "       day_of_week v_name v_league h_name h_league day_night  completion  \\\n",
       "count         2430   2430     2430   2430     2430      2430        2430   \n",
       "unique           7     30        2     30        2         2           7   \n",
       "top            Sat    MIL       NL    CHN       NL         N           0   \n",
       "freq           412     81     1215     81     1215      1501        2424   \n",
       "\n",
       "       park_id v_line_score h_line_score  ... h_player_6_id h_player_6_name  \\\n",
       "count     2430         2430         2430  ...          2430            2430   \n",
       "unique      33         1514         1624  ...           380             379   \n",
       "top      CHI11    000000000    000000000  ...      heimj001      Jonah Heim   \n",
       "freq        81          169          132  ...            48              48   \n",
       "\n",
       "       h_player_7_id h_player_7_name h_player_8_id h_player_8_name  \\\n",
       "count           2430            2430          2430            2430   \n",
       "unique           418             418           395             394   \n",
       "top         brenw002    Will Brennan      arcio002   Orlando Arcia   \n",
       "freq              30              30            55              55   \n",
       "\n",
       "       h_player_9_id   h_player_9_name additional_info acquisition_info  \n",
       "count           2430              2430            2430             2430  \n",
       "unique           331               331              13                1  \n",
       "top         maldm001  Martin Maldonado               0                Y  \n",
       "freq              58                58            2417             2430  \n",
       "\n",
       "[4 rows x 74 columns]"
      ]
     },
     "execution_count": 10,
     "metadata": {},
     "output_type": "execute_result"
    }
   ],
   "source": [
    "%%RecordEvent\n",
    "gl_obj = gl.select_dtypes(include=['object']).copy()\n",
    "print(id(gl_obj))\n",
    "gl_obj.describe()"
   ]
  },
  {
   "cell_type": "code",
   "execution_count": 11,
   "metadata": {
    "pycharm": {
     "name": "#%%\n"
    }
   },
   "outputs": [
    {
     "name": "stdout",
     "output_type": "stream",
     "text": [
      "0    Thu\n",
      "1    Thu\n",
      "2    Thu\n",
      "3    Thu\n",
      "4    Thu\n",
      "Name: day_of_week, dtype: object\n",
      "0    Thu\n",
      "1    Thu\n",
      "2    Thu\n",
      "3    Thu\n",
      "4    Thu\n",
      "Name: day_of_week, dtype: category\n",
      "Categories (7, object): ['Fri', 'Mon', 'Sat', 'Sun', 'Thu', 'Tue', 'Wed']\n",
      "4596223344 4596341056\n"
     ]
    }
   ],
   "source": [
    "%%RecordEvent\n",
    "dow = gl_obj.day_of_week\n",
    "print(dow.head())\n",
    "dow_cat = dow.astype('category')\n",
    "print(dow_cat.head())\n",
    "print(id(dow), id(dow_cat))"
   ]
  },
  {
   "cell_type": "code",
   "execution_count": 12,
   "metadata": {
    "pycharm": {
     "name": "#%%\n"
    }
   },
   "outputs": [
    {
     "name": "stdout",
     "output_type": "stream",
     "text": [
      "4594949856\n"
     ]
    }
   ],
   "source": [
    "%%RecordEvent\n",
    "converted_obj = pd.DataFrame()\n",
    "for col in gl_obj.columns:\n",
    "    num_unique_values = len(gl_obj[col].unique())\n",
    "    num_total_values = len(gl_obj[col])\n",
    "    if num_unique_values / num_total_values < 0.5:\n",
    "        converted_obj.loc[:,col] = gl_obj[col].astype('category')\n",
    "    else:\n",
    "        converted_obj.loc[:,col] = gl_obj[col]\n",
    "print(id(converted_obj))"
   ]
  },
  {
   "cell_type": "code",
   "execution_count": 13,
   "metadata": {
    "pycharm": {
     "name": "#%%\n"
    }
   },
   "outputs": [
    {
     "name": "stdout",
     "output_type": "stream",
     "text": [
      "migration speed (bps) (total_bytes / (total_read_time + total_write_time * alpha)): 984687400.596722\n",
      "|- total bytes: 799920000\n",
      "|- total read time: 0.00012040138244628906\n",
      "|- total write time: 0.8122389316558838\n",
      "|- alpha: 1\n",
      "---------------------------\n",
      "all variables:\n",
      "name: gl\n",
      "name: pd\n",
      "name: mean_usage_b\n",
      "name: selected_dtype\n",
      "name: mean_usage_mb\n",
      "name: dtype\n",
      "name: mem_usage\n",
      "name: compare_ints\n",
      "name: converted_int\n",
      "name: gl_int\n",
      "name: compare_floats\n",
      "name: gl_float\n",
      "name: converted_float\n",
      "name: optimized_gl\n",
      "name: gl_obj\n",
      "name: dow_cat\n",
      "name: dow\n",
      "name: num_unique_values\n",
      "name: num_total_values\n",
      "name: col\n",
      "name: converted_obj\n",
      "---------------------------\n",
      "variables to migrate:\n",
      "name: mem_usage, size: 160\n",
      "---------------------------\n",
      "variables to recompute:\n",
      "name: optimized_gl, size: inf\n",
      "name: selected_dtype, size: inf\n",
      "name: dow, size: inf\n",
      "name: gl, size: inf\n",
      "name: mean_usage_b, size: 32\n",
      "name: mean_usage_mb, size: 32\n",
      "name: gl_obj, size: inf\n",
      "name: pd, size: 72\n",
      "name: compare_floats, size: inf\n",
      "name: converted_obj, size: inf\n",
      "name: col, size: 57\n",
      "name: dtype, size: 47\n",
      "name: num_unique_values, size: 28\n",
      "name: gl_float, size: 97364\n",
      "name: dow_cat, size: 3258\n",
      "name: num_total_values, size: 28\n",
      "name: converted_float, size: 48764\n",
      "name: converted_int, size: 209144\n",
      "name: compare_ints, size: inf\n",
      "name: gl_int, size: 1594244\n",
      "['optimized_gl', 'selected_dtype', 'dow', 'gl', 'mean_usage_b', 'mean_usage_mb', 'gl_obj', 'pd', 'compare_floats', 'converted_obj', 'col', 'dtype', 'num_unique_values', 'gl_float', 'dow_cat', 'num_total_values', 'converted_float', 'converted_int', 'compare_ints', 'gl_int']\n",
      "---------------------------\n",
      "cells to recompute:\n",
      "cell num: 8, cell runtime: 0.029889822006225586\n",
      "cell num: 7, cell runtime: 0.04644298553466797\n",
      "cell num: 1, cell runtime: 0.02979564666748047\n",
      "cell num: 3, cell runtime: 0.022238969802856445\n",
      "cell num: 10, cell runtime: 0.029687881469726562\n",
      "cell num: 5, cell runtime: 0.01011514663696289\n",
      "cell num: 6, cell runtime: 0.003381967544555664\n",
      "cell num: 0, cell runtime: 0.03303885459899902\n",
      "cell num: 9, cell runtime: 0.0016467571258544922\n",
      "[1, 2, 4, 6, 7, 8, 9, 10, 11]\n",
      "Checkpoint saved to: checkpoints/pandas.pickle\n"
     ]
    }
   ],
   "source": [
    "%Checkpoint checkpoints/pandas.pickle"
   ]
  },
  {
   "cell_type": "code",
   "execution_count": 14,
   "metadata": {},
   "outputs": [
    {
     "name": "stdout",
     "output_type": "stream",
     "text": [
      "col\t compare_floats\t compare_ints\t converted_float\t converted_int\t converted_obj\t dow\t dow_cat\t dtype\t \n",
      "gl\t gl_float\t gl_int\t gl_obj\t mean_usage_b\t mean_usage_mb\t mem_usage\t num_total_values\t num_unique_values\t \n",
      "optimized_gl\t os\t pd\t selected_dtype\t sys\t \n"
     ]
    }
   ],
   "source": [
    "%who"
   ]
  }
 ],
 "metadata": {
  "kernelspec": {
   "display_name": "Python 3 (ipykernel)",
   "language": "python",
   "name": "python3"
  },
  "language_info": {
   "codemirror_mode": {
    "name": "ipython",
    "version": 3
   },
   "file_extension": ".py",
   "mimetype": "text/x-python",
   "name": "python",
   "nbconvert_exporter": "python",
   "pygments_lexer": "ipython3",
   "version": "3.12.2"
  }
 },
 "nbformat": 4,
 "nbformat_minor": 4
}
